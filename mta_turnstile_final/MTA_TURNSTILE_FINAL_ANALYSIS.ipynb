{
 "cells": [
  {
   "cell_type": "markdown",
   "metadata": {},
   "source": [
    "### Spring 2018, CCNY\n",
    "### BIGDATA Final Project\n",
    "### Prof: HUY VO\n",
    "### Student: Mohamed Sondo, Rupesh Basnet"
   ]
  },
  {
   "cell_type": "markdown",
   "metadata": {},
   "source": [
    " function to download turnstile data from the MTA website."
   ]
  },
  {
   "cell_type": "code",
   "execution_count": 1,
   "metadata": {},
   "outputs": [
    {
     "name": "stdout",
     "output_type": "stream",
     "text": [
      "Trying to Reading : http://web.mta.info/developers/data/nyct/turnstile/turnstile_160301.txt\n",
      "Trying to Reading : http://web.mta.info/developers/data/nyct/turnstile/turnstile_160302.txt\n",
      "Trying to Reading : http://web.mta.info/developers/data/nyct/turnstile/turnstile_160303.txt\n",
      "Trying to Reading : http://web.mta.info/developers/data/nyct/turnstile/turnstile_160304.txt\n",
      "Trying to Reading : http://web.mta.info/developers/data/nyct/turnstile/turnstile_160305.txt\n",
      "Success!!!\n",
      "Trying to Reading : http://web.mta.info/developers/data/nyct/turnstile/turnstile_160306.txt\n",
      "Trying to Reading : http://web.mta.info/developers/data/nyct/turnstile/turnstile_160307.txt\n",
      "Trying to Reading : http://web.mta.info/developers/data/nyct/turnstile/turnstile_160308.txt\n",
      "Trying to Reading : http://web.mta.info/developers/data/nyct/turnstile/turnstile_160309.txt\n",
      "Trying to Reading : http://web.mta.info/developers/data/nyct/turnstile/turnstile_160310.txt\n",
      "Trying to Reading : http://web.mta.info/developers/data/nyct/turnstile/turnstile_160311.txt\n",
      "Trying to Reading : http://web.mta.info/developers/data/nyct/turnstile/turnstile_160312.txt\n",
      "Success!!!\n",
      "Trying to Reading : http://web.mta.info/developers/data/nyct/turnstile/turnstile_160313.txt\n",
      "Trying to Reading : http://web.mta.info/developers/data/nyct/turnstile/turnstile_160314.txt\n",
      "Trying to Reading : http://web.mta.info/developers/data/nyct/turnstile/turnstile_160315.txt\n",
      "Trying to Reading : http://web.mta.info/developers/data/nyct/turnstile/turnstile_160316.txt\n",
      "Trying to Reading : http://web.mta.info/developers/data/nyct/turnstile/turnstile_160317.txt\n",
      "Trying to Reading : http://web.mta.info/developers/data/nyct/turnstile/turnstile_160318.txt\n",
      "Trying to Reading : http://web.mta.info/developers/data/nyct/turnstile/turnstile_160319.txt\n",
      "Success!!!\n",
      "Trying to Reading : http://web.mta.info/developers/data/nyct/turnstile/turnstile_160320.txt\n",
      "Trying to Reading : http://web.mta.info/developers/data/nyct/turnstile/turnstile_160321.txt\n",
      "Trying to Reading : http://web.mta.info/developers/data/nyct/turnstile/turnstile_160322.txt\n",
      "Trying to Reading : http://web.mta.info/developers/data/nyct/turnstile/turnstile_160323.txt\n",
      "Trying to Reading : http://web.mta.info/developers/data/nyct/turnstile/turnstile_160324.txt\n",
      "Trying to Reading : http://web.mta.info/developers/data/nyct/turnstile/turnstile_160325.txt\n",
      "Trying to Reading : http://web.mta.info/developers/data/nyct/turnstile/turnstile_160326.txt\n",
      "Success!!!\n",
      "Trying to Reading : http://web.mta.info/developers/data/nyct/turnstile/turnstile_160327.txt\n",
      "Trying to Reading : http://web.mta.info/developers/data/nyct/turnstile/turnstile_160328.txt\n",
      "Trying to Reading : http://web.mta.info/developers/data/nyct/turnstile/turnstile_160329.txt\n",
      "Trying to Reading : http://web.mta.info/developers/data/nyct/turnstile/turnstile_160330.txt\n",
      "Trying to Reading : http://web.mta.info/developers/data/nyct/turnstile/turnstile_160401.txt\n",
      "Trying to Reading : http://web.mta.info/developers/data/nyct/turnstile/turnstile_160402.txt\n",
      "Success!!!\n",
      "Trying to Reading : http://web.mta.info/developers/data/nyct/turnstile/turnstile_160403.txt\n",
      "Trying to Reading : http://web.mta.info/developers/data/nyct/turnstile/turnstile_160404.txt\n",
      "Trying to Reading : http://web.mta.info/developers/data/nyct/turnstile/turnstile_160405.txt\n",
      "Trying to Reading : http://web.mta.info/developers/data/nyct/turnstile/turnstile_160406.txt\n",
      "Trying to Reading : http://web.mta.info/developers/data/nyct/turnstile/turnstile_160407.txt\n",
      "Trying to Reading : http://web.mta.info/developers/data/nyct/turnstile/turnstile_160408.txt\n",
      "Trying to Reading : http://web.mta.info/developers/data/nyct/turnstile/turnstile_160409.txt\n",
      "Success!!!\n",
      "Trying to Reading : http://web.mta.info/developers/data/nyct/turnstile/turnstile_160410.txt\n",
      "Trying to Reading : http://web.mta.info/developers/data/nyct/turnstile/turnstile_160411.txt\n",
      "Trying to Reading : http://web.mta.info/developers/data/nyct/turnstile/turnstile_160412.txt\n",
      "Trying to Reading : http://web.mta.info/developers/data/nyct/turnstile/turnstile_160413.txt\n",
      "Trying to Reading : http://web.mta.info/developers/data/nyct/turnstile/turnstile_160414.txt\n",
      "Trying to Reading : http://web.mta.info/developers/data/nyct/turnstile/turnstile_160415.txt\n",
      "Trying to Reading : http://web.mta.info/developers/data/nyct/turnstile/turnstile_160416.txt\n",
      "Success!!!\n",
      "Trying to Reading : http://web.mta.info/developers/data/nyct/turnstile/turnstile_160417.txt\n",
      "Trying to Reading : http://web.mta.info/developers/data/nyct/turnstile/turnstile_160418.txt\n",
      "Trying to Reading : http://web.mta.info/developers/data/nyct/turnstile/turnstile_160419.txt\n",
      "Trying to Reading : http://web.mta.info/developers/data/nyct/turnstile/turnstile_160420.txt\n",
      "Trying to Reading : http://web.mta.info/developers/data/nyct/turnstile/turnstile_160421.txt\n",
      "Trying to Reading : http://web.mta.info/developers/data/nyct/turnstile/turnstile_160422.txt\n",
      "Trying to Reading : http://web.mta.info/developers/data/nyct/turnstile/turnstile_160423.txt\n",
      "Success!!!\n",
      "Trying to Reading : http://web.mta.info/developers/data/nyct/turnstile/turnstile_160424.txt\n",
      "Trying to Reading : http://web.mta.info/developers/data/nyct/turnstile/turnstile_160425.txt\n",
      "Trying to Reading : http://web.mta.info/developers/data/nyct/turnstile/turnstile_160426.txt\n",
      "Trying to Reading : http://web.mta.info/developers/data/nyct/turnstile/turnstile_160427.txt\n",
      "Trying to Reading : http://web.mta.info/developers/data/nyct/turnstile/turnstile_160428.txt\n",
      "Trying to Reading : http://web.mta.info/developers/data/nyct/turnstile/turnstile_160429.txt\n",
      "Trying to Reading : http://web.mta.info/developers/data/nyct/turnstile/turnstile_160430.txt\n",
      "Success!!!\n"
     ]
    }
   ],
   "source": [
    "import pandas as pd\n",
    "\n",
    "def importMTAData(startMonthInt, endMonthInt):\n",
    "    df =[]\n",
    "    for m in range(startMonthInt,endMonthInt):\n",
    "        for d in range(1,31):\n",
    "            url = 'http://web.mta.info/developers/data/nyct/turnstile/turnstile_16' + ('%02d') % (m,) + ('%02d') % (d,) + '.txt' \n",
    "            print('Trying to Reading :'+ ' '+ url)\n",
    "            try:\n",
    "                tempDF = pd.read_csv(url)\n",
    "                print('Success!!!')\n",
    "                if len(df) < 1:\n",
    "                    df = tempDF \n",
    "                else:\n",
    "                    df = pd.concat([df,tempDF])\n",
    "            except Exception:\n",
    "                pass\n",
    "    return(df)\n",
    "                \n",
    "\n",
    "#df = pd.read_csv('http://web.mta.info/developers/data/nyct/turnstile/turnstile_170401.txt')\n",
    "\n",
    "df = importMTAData(3,5)"
   ]
  },
  {
   "cell_type": "markdown",
   "metadata": {},
   "source": [
    "Import libraries"
   ]
  },
  {
   "cell_type": "code",
   "execution_count": 2,
   "metadata": {},
   "outputs": [
    {
     "name": "stdout",
     "output_type": "stream",
     "text": [
      "Populating the interactive namespace from numpy and matplotlib\n"
     ]
    }
   ],
   "source": [
    "import pandas as pd\n",
    "import matplotlib.pyplot as plt\n",
    "import numpy as np\n",
    "from datetime import datetime as dt\n",
    "import seaborn as sns\n",
    "\n",
    "\n",
    "%pylab inline"
   ]
  },
  {
   "cell_type": "markdown",
   "metadata": {},
   "source": []
  },
  {
   "cell_type": "code",
   "execution_count": null,
   "metadata": {},
   "outputs": [],
   "source": []
  },
  {
   "cell_type": "markdown",
   "metadata": {},
   "source": [
    "Stations such as 34th street Penn Station could have multiple lines. Concatenate station and line information"
   ]
  },
  {
   "cell_type": "code",
   "execution_count": 4,
   "metadata": {
    "collapsed": true
   },
   "outputs": [],
   "source": [
    "df['STATION'] = df['STATION'] + \"_\"+ df['LINENAME']"
   ]
  },
  {
   "cell_type": "markdown",
   "metadata": {},
   "source": [
    "Take a look at dates in data to ensure we have good data"
   ]
  },
  {
   "cell_type": "code",
   "execution_count": 5,
   "metadata": {},
   "outputs": [
    {
     "data": {
      "text/plain": [
       "array(['02/27/2016', '02/28/2016', '02/29/2016', '03/01/2016',\n",
       "       '03/02/2016', '03/03/2016', '03/04/2016', '03/05/2016',\n",
       "       '03/06/2016', '03/07/2016', '03/08/2016', '03/09/2016',\n",
       "       '03/10/2016', '03/11/2016', '03/12/2016', '03/13/2016',\n",
       "       '03/14/2016', '03/15/2016', '03/16/2016', '03/17/2016',\n",
       "       '03/18/2016', '03/19/2016', '03/20/2016', '03/21/2016',\n",
       "       '03/22/2016', '03/23/2016', '03/24/2016', '03/25/2016',\n",
       "       '03/26/2016', '03/27/2016', '03/28/2016', '03/29/2016',\n",
       "       '03/30/2016', '03/31/2016', '04/01/2016', '04/02/2016',\n",
       "       '04/03/2016', '04/04/2016', '04/05/2016', '04/06/2016',\n",
       "       '04/07/2016', '04/08/2016', '04/09/2016', '04/10/2016',\n",
       "       '04/11/2016', '04/12/2016', '04/13/2016', '04/14/2016',\n",
       "       '04/15/2016', '04/16/2016', '04/17/2016', '04/18/2016',\n",
       "       '04/19/2016', '04/20/2016', '04/21/2016', '04/22/2016',\n",
       "       '04/23/2016', '04/24/2016', '04/25/2016', '04/26/2016',\n",
       "       '04/27/2016', '04/28/2016', '04/29/2016'], dtype=object)"
      ]
     },
     "execution_count": 5,
     "metadata": {},
     "output_type": "execute_result"
    }
   ],
   "source": [
    "df.DATE.unique()"
   ]
  },
  {
   "cell_type": "markdown",
   "metadata": {},
   "source": [
    "Look at the first few rows"
   ]
  },
  {
   "cell_type": "code",
   "execution_count": 6,
   "metadata": {
    "scrolled": true
   },
   "outputs": [
    {
     "data": {
      "text/html": [
       "<div>\n",
       "<style>\n",
       "    .dataframe thead tr:only-child th {\n",
       "        text-align: right;\n",
       "    }\n",
       "\n",
       "    .dataframe thead th {\n",
       "        text-align: left;\n",
       "    }\n",
       "\n",
       "    .dataframe tbody tr th {\n",
       "        vertical-align: top;\n",
       "    }\n",
       "</style>\n",
       "<table border=\"1\" class=\"dataframe\">\n",
       "  <thead>\n",
       "    <tr style=\"text-align: right;\">\n",
       "      <th></th>\n",
       "      <th>C/A</th>\n",
       "      <th>UNIT</th>\n",
       "      <th>SCP</th>\n",
       "      <th>STATION</th>\n",
       "      <th>LINENAME</th>\n",
       "      <th>DIVISION</th>\n",
       "      <th>DATE</th>\n",
       "      <th>TIME</th>\n",
       "      <th>DESC</th>\n",
       "      <th>ENTRIES</th>\n",
       "      <th>EXITS</th>\n",
       "    </tr>\n",
       "  </thead>\n",
       "  <tbody>\n",
       "    <tr>\n",
       "      <th>0</th>\n",
       "      <td>A002</td>\n",
       "      <td>R051</td>\n",
       "      <td>02-00-00</td>\n",
       "      <td>59 ST_NQR456</td>\n",
       "      <td>NQR456</td>\n",
       "      <td>BMT</td>\n",
       "      <td>02/27/2016</td>\n",
       "      <td>03:00:00</td>\n",
       "      <td>REGULAR</td>\n",
       "      <td>5562172</td>\n",
       "      <td>1877574</td>\n",
       "    </tr>\n",
       "    <tr>\n",
       "      <th>1</th>\n",
       "      <td>A002</td>\n",
       "      <td>R051</td>\n",
       "      <td>02-00-00</td>\n",
       "      <td>59 ST_NQR456</td>\n",
       "      <td>NQR456</td>\n",
       "      <td>BMT</td>\n",
       "      <td>02/27/2016</td>\n",
       "      <td>07:00:00</td>\n",
       "      <td>REGULAR</td>\n",
       "      <td>5562184</td>\n",
       "      <td>1877586</td>\n",
       "    </tr>\n",
       "    <tr>\n",
       "      <th>2</th>\n",
       "      <td>A002</td>\n",
       "      <td>R051</td>\n",
       "      <td>02-00-00</td>\n",
       "      <td>59 ST_NQR456</td>\n",
       "      <td>NQR456</td>\n",
       "      <td>BMT</td>\n",
       "      <td>02/27/2016</td>\n",
       "      <td>11:00:00</td>\n",
       "      <td>REGULAR</td>\n",
       "      <td>5562267</td>\n",
       "      <td>1877691</td>\n",
       "    </tr>\n",
       "    <tr>\n",
       "      <th>3</th>\n",
       "      <td>A002</td>\n",
       "      <td>R051</td>\n",
       "      <td>02-00-00</td>\n",
       "      <td>59 ST_NQR456</td>\n",
       "      <td>NQR456</td>\n",
       "      <td>BMT</td>\n",
       "      <td>02/27/2016</td>\n",
       "      <td>15:00:00</td>\n",
       "      <td>REGULAR</td>\n",
       "      <td>5562516</td>\n",
       "      <td>1877745</td>\n",
       "    </tr>\n",
       "    <tr>\n",
       "      <th>4</th>\n",
       "      <td>A002</td>\n",
       "      <td>R051</td>\n",
       "      <td>02-00-00</td>\n",
       "      <td>59 ST_NQR456</td>\n",
       "      <td>NQR456</td>\n",
       "      <td>BMT</td>\n",
       "      <td>02/27/2016</td>\n",
       "      <td>19:00:00</td>\n",
       "      <td>REGULAR</td>\n",
       "      <td>5562920</td>\n",
       "      <td>1877821</td>\n",
       "    </tr>\n",
       "  </tbody>\n",
       "</table>\n",
       "</div>"
      ],
      "text/plain": [
       "    C/A  UNIT       SCP       STATION LINENAME DIVISION        DATE      TIME  \\\n",
       "0  A002  R051  02-00-00  59 ST_NQR456   NQR456      BMT  02/27/2016  03:00:00   \n",
       "1  A002  R051  02-00-00  59 ST_NQR456   NQR456      BMT  02/27/2016  07:00:00   \n",
       "2  A002  R051  02-00-00  59 ST_NQR456   NQR456      BMT  02/27/2016  11:00:00   \n",
       "3  A002  R051  02-00-00  59 ST_NQR456   NQR456      BMT  02/27/2016  15:00:00   \n",
       "4  A002  R051  02-00-00  59 ST_NQR456   NQR456      BMT  02/27/2016  19:00:00   \n",
       "\n",
       "      DESC  ENTRIES  \\\n",
       "0  REGULAR  5562172   \n",
       "1  REGULAR  5562184   \n",
       "2  REGULAR  5562267   \n",
       "3  REGULAR  5562516   \n",
       "4  REGULAR  5562920   \n",
       "\n",
       "   EXITS                                                                 \n",
       "0                                            1877574                     \n",
       "1                                            1877586                     \n",
       "2                                            1877691                     \n",
       "3                                            1877745                     \n",
       "4                                            1877821                     "
      ]
     },
     "execution_count": 6,
     "metadata": {},
     "output_type": "execute_result"
    }
   ],
   "source": [
    "df.head()"
   ]
  },
  {
   "cell_type": "markdown",
   "metadata": {},
   "source": [
    "Looks like column names have spaces, which could end up being annoying with intellisense. Strip spaces from column names"
   ]
  },
  {
   "cell_type": "code",
   "execution_count": 7,
   "metadata": {},
   "outputs": [],
   "source": [
    "df.columns = [i.strip() for i in df.columns]"
   ]
  },
  {
   "cell_type": "code",
   "execution_count": 8,
   "metadata": {},
   "outputs": [
    {
     "data": {
      "text/plain": [
       "Index(['C/A', 'UNIT', 'SCP', 'STATION', 'LINENAME', 'DIVISION', 'DATE', 'TIME',\n",
       "       'DESC', 'ENTRIES', 'EXITS'],\n",
       "      dtype='object')"
      ]
     },
     "execution_count": 8,
     "metadata": {},
     "output_type": "execute_result"
    }
   ],
   "source": [
    "df.columns"
   ]
  },
  {
   "cell_type": "markdown",
   "metadata": {},
   "source": [
    "Combine date and time columns and create new DateTime column"
   ]
  },
  {
   "cell_type": "code",
   "execution_count": 9,
   "metadata": {},
   "outputs": [],
   "source": [
    "# add format to make things faster here\n",
    "df['dateTime'] = pd.to_datetime(df.DATE +' '+ df.TIME, format='%m/%d/%Y %H:%M:%S')"
   ]
  },
  {
   "cell_type": "markdown",
   "metadata": {},
   "source": [
    "Entries and exits columns in the data show the register value at the given time for a given turnstile. The first approach show below was to group data by date for each turnstile and subtract min from max for entries and exits. However, this didn't work properly due to outliers in data. In some cases registers were being reset, possibly due to repairs."
   ]
  },
  {
   "cell_type": "code",
   "execution_count": 10,
   "metadata": {
    "scrolled": true
   },
   "outputs": [
    {
     "data": {
      "text/html": [
       "<div>\n",
       "<style>\n",
       "    .dataframe thead tr:only-child th {\n",
       "        text-align: right;\n",
       "    }\n",
       "\n",
       "    .dataframe thead th {\n",
       "        text-align: left;\n",
       "    }\n",
       "\n",
       "    .dataframe tbody tr th {\n",
       "        vertical-align: top;\n",
       "    }\n",
       "</style>\n",
       "<table border=\"1\" class=\"dataframe\">\n",
       "  <thead>\n",
       "    <tr style=\"text-align: right;\">\n",
       "      <th></th>\n",
       "      <th>entries_min</th>\n",
       "      <th>entries_max</th>\n",
       "      <th>NoEntries</th>\n",
       "      <th>exits_min</th>\n",
       "      <th>exits_max</th>\n",
       "      <th>NoExits</th>\n",
       "      <th>totalFootTraffic</th>\n",
       "    </tr>\n",
       "  </thead>\n",
       "  <tbody>\n",
       "    <tr>\n",
       "      <th>count</th>\n",
       "      <td>2.884370e+05</td>\n",
       "      <td>2.884370e+05</td>\n",
       "      <td>2.884370e+05</td>\n",
       "      <td>2.884370e+05</td>\n",
       "      <td>2.884370e+05</td>\n",
       "      <td>2.884370e+05</td>\n",
       "      <td>2.884370e+05</td>\n",
       "    </tr>\n",
       "    <tr>\n",
       "      <th>mean</th>\n",
       "      <td>3.450347e+07</td>\n",
       "      <td>3.453679e+07</td>\n",
       "      <td>3.332168e+04</td>\n",
       "      <td>2.816239e+07</td>\n",
       "      <td>2.819305e+07</td>\n",
       "      <td>3.066019e+04</td>\n",
       "      <td>6.398188e+04</td>\n",
       "    </tr>\n",
       "    <tr>\n",
       "      <th>std</th>\n",
       "      <td>1.928012e+08</td>\n",
       "      <td>1.929062e+08</td>\n",
       "      <td>6.502540e+06</td>\n",
       "      <td>1.738662e+08</td>\n",
       "      <td>1.739767e+08</td>\n",
       "      <td>6.325837e+06</td>\n",
       "      <td>1.191555e+07</td>\n",
       "    </tr>\n",
       "    <tr>\n",
       "      <th>min</th>\n",
       "      <td>0.000000e+00</td>\n",
       "      <td>0.000000e+00</td>\n",
       "      <td>0.000000e+00</td>\n",
       "      <td>0.000000e+00</td>\n",
       "      <td>0.000000e+00</td>\n",
       "      <td>0.000000e+00</td>\n",
       "      <td>0.000000e+00</td>\n",
       "    </tr>\n",
       "    <tr>\n",
       "      <th>25%</th>\n",
       "      <td>5.635420e+05</td>\n",
       "      <td>5.646470e+05</td>\n",
       "      <td>2.530000e+02</td>\n",
       "      <td>2.855740e+05</td>\n",
       "      <td>2.869470e+05</td>\n",
       "      <td>1.290000e+02</td>\n",
       "      <td>5.610000e+02</td>\n",
       "    </tr>\n",
       "    <tr>\n",
       "      <th>50%</th>\n",
       "      <td>2.520128e+06</td>\n",
       "      <td>2.522857e+06</td>\n",
       "      <td>7.950000e+02</td>\n",
       "      <td>1.473497e+06</td>\n",
       "      <td>1.474835e+06</td>\n",
       "      <td>4.670000e+02</td>\n",
       "      <td>1.466000e+03</td>\n",
       "    </tr>\n",
       "    <tr>\n",
       "      <th>75%</th>\n",
       "      <td>6.397638e+06</td>\n",
       "      <td>6.400210e+06</td>\n",
       "      <td>1.550000e+03</td>\n",
       "      <td>4.588790e+06</td>\n",
       "      <td>4.590922e+06</td>\n",
       "      <td>1.066000e+03</td>\n",
       "      <td>2.660000e+03</td>\n",
       "    </tr>\n",
       "    <tr>\n",
       "      <th>max</th>\n",
       "      <td>2.146697e+09</td>\n",
       "      <td>2.146697e+09</td>\n",
       "      <td>2.130766e+09</td>\n",
       "      <td>2.097169e+09</td>\n",
       "      <td>2.097170e+09</td>\n",
       "      <td>2.097170e+09</td>\n",
       "      <td>4.227935e+09</td>\n",
       "    </tr>\n",
       "  </tbody>\n",
       "</table>\n",
       "</div>"
      ],
      "text/plain": [
       "        entries_min   entries_max     NoEntries     exits_min     exits_max  \\\n",
       "count  2.884370e+05  2.884370e+05  2.884370e+05  2.884370e+05  2.884370e+05   \n",
       "mean   3.450347e+07  3.453679e+07  3.332168e+04  2.816239e+07  2.819305e+07   \n",
       "std    1.928012e+08  1.929062e+08  6.502540e+06  1.738662e+08  1.739767e+08   \n",
       "min    0.000000e+00  0.000000e+00  0.000000e+00  0.000000e+00  0.000000e+00   \n",
       "25%    5.635420e+05  5.646470e+05  2.530000e+02  2.855740e+05  2.869470e+05   \n",
       "50%    2.520128e+06  2.522857e+06  7.950000e+02  1.473497e+06  1.474835e+06   \n",
       "75%    6.397638e+06  6.400210e+06  1.550000e+03  4.588790e+06  4.590922e+06   \n",
       "max    2.146697e+09  2.146697e+09  2.130766e+09  2.097169e+09  2.097170e+09   \n",
       "\n",
       "            NoExits  totalFootTraffic  \n",
       "count  2.884370e+05      2.884370e+05  \n",
       "mean   3.066019e+04      6.398188e+04  \n",
       "std    6.325837e+06      1.191555e+07  \n",
       "min    0.000000e+00      0.000000e+00  \n",
       "25%    1.290000e+02      5.610000e+02  \n",
       "50%    4.670000e+02      1.466000e+03  \n",
       "75%    1.066000e+03      2.660000e+03  \n",
       "max    2.097170e+09      4.227935e+09  "
      ]
     },
     "execution_count": 10,
     "metadata": {},
     "output_type": "execute_result"
    }
   ],
   "source": [
    "key = ['C/A',\n",
    "'UNIT',\n",
    "'SCP',\n",
    "'STATION',\n",
    " 'DATE']\n",
    "\n",
    "#df['Incr_ENTRIES'] = df.groupby(key).ENTRIES.apply(lambda x: x.order(ascending=True)).diff()\n",
    "#df['Incr_EXITS'] = df.groupby(key).EXITS.diff()\n",
    "entries = df.groupby(key).ENTRIES.agg(['min','max']).reset_index()\n",
    "entries.rename(columns={'min':'entries_min','max':'entries_max'}, inplace=True)\n",
    "\n",
    "entries['NoEntries'] = entries['entries_max'] - entries['entries_min']\n",
    "entries.set_index(key, inplace=True)\n",
    "\n",
    "exits = df.groupby(key).EXITS.agg(['min','max']).reset_index()\n",
    "exits.rename(columns={'min':'exits_min','max':'exits_max'}, inplace=True)\n",
    "exits['NoExits'] = exits['exits_max'] - exits['exits_min']\n",
    "exits.set_index(key, inplace=True)\n",
    "\n",
    "combined = entries.join(exits).reset_index()\n",
    "combined['totalFootTraffic'] = combined.NoEntries + combined.NoExits\n",
    "\n",
    "key = ['C/A',\n",
    "'UNIT',\n",
    "'SCP',\n",
    " 'DATE']\n",
    "\n",
    "combined.groupby('STATION').totalFootTraffic.agg(['sum']).sort_values('sum', ascending=False)\n",
    "\n",
    "combined.describe()"
   ]
  },
  {
   "cell_type": "markdown",
   "metadata": {},
   "source": [
    "Looks like there are outliers. It doesn't make sense 18 Av, 57st and Lorimer St stations show up as top stations for turnstile traffic. Let's dig in to find out what is going on here"
   ]
  },
  {
   "cell_type": "code",
   "execution_count": 11,
   "metadata": {},
   "outputs": [
    {
     "data": {
      "text/html": [
       "<div>\n",
       "<style>\n",
       "    .dataframe thead tr:only-child th {\n",
       "        text-align: right;\n",
       "    }\n",
       "\n",
       "    .dataframe thead th {\n",
       "        text-align: left;\n",
       "    }\n",
       "\n",
       "    .dataframe tbody tr th {\n",
       "        vertical-align: top;\n",
       "    }\n",
       "</style>\n",
       "<table border=\"1\" class=\"dataframe\">\n",
       "  <thead>\n",
       "    <tr style=\"text-align: right;\">\n",
       "      <th></th>\n",
       "      <th>C/A</th>\n",
       "      <th>UNIT</th>\n",
       "      <th>SCP</th>\n",
       "      <th>STATION</th>\n",
       "      <th>DATE</th>\n",
       "      <th>entries_min</th>\n",
       "      <th>entries_max</th>\n",
       "      <th>NoEntries</th>\n",
       "      <th>exits_min</th>\n",
       "      <th>exits_max</th>\n",
       "      <th>NoExits</th>\n",
       "      <th>totalFootTraffic</th>\n",
       "    </tr>\n",
       "  </thead>\n",
       "  <tbody>\n",
       "    <tr>\n",
       "      <th>52335</th>\n",
       "      <td>J005</td>\n",
       "      <td>R353</td>\n",
       "      <td>00-00-01</td>\n",
       "      <td>LORIMER ST_JM</td>\n",
       "      <td>04/06/2016</td>\n",
       "      <td>368</td>\n",
       "      <td>2130765931</td>\n",
       "      <td>2130765563</td>\n",
       "      <td>134</td>\n",
       "      <td>2097169768</td>\n",
       "      <td>2097169634</td>\n",
       "      <td>4227935197</td>\n",
       "    </tr>\n",
       "    <tr>\n",
       "      <th>239234</th>\n",
       "      <td>R305</td>\n",
       "      <td>R206</td>\n",
       "      <td>01-00-02</td>\n",
       "      <td>125 ST_23</td>\n",
       "      <td>04/05/2016</td>\n",
       "      <td>9174608</td>\n",
       "      <td>1946145648</td>\n",
       "      <td>1936971040</td>\n",
       "      <td>5894601</td>\n",
       "      <td>1493213618</td>\n",
       "      <td>1487319017</td>\n",
       "      <td>3424290057</td>\n",
       "    </tr>\n",
       "    <tr>\n",
       "      <th>150054</th>\n",
       "      <td>N539A</td>\n",
       "      <td>R288</td>\n",
       "      <td>00-05-01</td>\n",
       "      <td>7 AV_FG</td>\n",
       "      <td>04/27/2016</td>\n",
       "      <td>6839231</td>\n",
       "      <td>1744880879</td>\n",
       "      <td>1738041648</td>\n",
       "      <td>915950</td>\n",
       "      <td>218111622</td>\n",
       "      <td>217195672</td>\n",
       "      <td>1955237320</td>\n",
       "    </tr>\n",
       "    <tr>\n",
       "      <th>201554</th>\n",
       "      <td>R174</td>\n",
       "      <td>R034</td>\n",
       "      <td>00-00-00</td>\n",
       "      <td>125 ST_1</td>\n",
       "      <td>04/05/2016</td>\n",
       "      <td>2546283</td>\n",
       "      <td>637542801</td>\n",
       "      <td>634996518</td>\n",
       "      <td>1253787</td>\n",
       "      <td>318773563</td>\n",
       "      <td>317519776</td>\n",
       "      <td>952516294</td>\n",
       "    </tr>\n",
       "    <tr>\n",
       "      <th>115355</th>\n",
       "      <td>N312</td>\n",
       "      <td>R339</td>\n",
       "      <td>00-06-00</td>\n",
       "      <td>36 ST_MR</td>\n",
       "      <td>04/15/2016</td>\n",
       "      <td>16843032</td>\n",
       "      <td>302092160</td>\n",
       "      <td>285249128</td>\n",
       "      <td>2304</td>\n",
       "      <td>5071</td>\n",
       "      <td>2767</td>\n",
       "      <td>285251895</td>\n",
       "    </tr>\n",
       "  </tbody>\n",
       "</table>\n",
       "</div>"
      ],
      "text/plain": [
       "          C/A  UNIT       SCP        STATION        DATE  entries_min  \\\n",
       "52335    J005  R353  00-00-01  LORIMER ST_JM  04/06/2016          368   \n",
       "239234   R305  R206  01-00-02      125 ST_23  04/05/2016      9174608   \n",
       "150054  N539A  R288  00-05-01        7 AV_FG  04/27/2016      6839231   \n",
       "201554   R174  R034  00-00-00       125 ST_1  04/05/2016      2546283   \n",
       "115355   N312  R339  00-06-00       36 ST_MR  04/15/2016     16843032   \n",
       "\n",
       "        entries_max   NoEntries  exits_min   exits_max     NoExits  \\\n",
       "52335    2130765931  2130765563        134  2097169768  2097169634   \n",
       "239234   1946145648  1936971040    5894601  1493213618  1487319017   \n",
       "150054   1744880879  1738041648     915950   218111622   217195672   \n",
       "201554    637542801   634996518    1253787   318773563   317519776   \n",
       "115355    302092160   285249128       2304        5071        2767   \n",
       "\n",
       "        totalFootTraffic  \n",
       "52335         4227935197  \n",
       "239234        3424290057  \n",
       "150054        1955237320  \n",
       "201554         952516294  \n",
       "115355         285251895  "
      ]
     },
     "execution_count": 11,
     "metadata": {},
     "output_type": "execute_result"
    }
   ],
   "source": [
    "combined.sort_values('NoEntries', ascending=False).head()"
   ]
  },
  {
   "cell_type": "code",
   "execution_count": 12,
   "metadata": {
    "scrolled": false
   },
   "outputs": [
    {
     "data": {
      "text/html": [
       "<div>\n",
       "<style>\n",
       "    .dataframe thead tr:only-child th {\n",
       "        text-align: right;\n",
       "    }\n",
       "\n",
       "    .dataframe thead th {\n",
       "        text-align: left;\n",
       "    }\n",
       "\n",
       "    .dataframe tbody tr th {\n",
       "        vertical-align: top;\n",
       "    }\n",
       "</style>\n",
       "<table border=\"1\" class=\"dataframe\">\n",
       "  <thead>\n",
       "    <tr style=\"text-align: right;\">\n",
       "      <th></th>\n",
       "      <th>C/A</th>\n",
       "      <th>UNIT</th>\n",
       "      <th>SCP</th>\n",
       "      <th>STATION</th>\n",
       "      <th>DATE</th>\n",
       "      <th>entries_min</th>\n",
       "      <th>entries_max</th>\n",
       "      <th>NoEntries</th>\n",
       "      <th>exits_min</th>\n",
       "      <th>exits_max</th>\n",
       "      <th>NoExits</th>\n",
       "      <th>totalFootTraffic</th>\n",
       "    </tr>\n",
       "  </thead>\n",
       "  <tbody>\n",
       "  </tbody>\n",
       "</table>\n",
       "</div>"
      ],
      "text/plain": [
       "Empty DataFrame\n",
       "Columns: [C/A, UNIT, SCP, STATION, DATE, entries_min, entries_max, NoEntries, exits_min, exits_max, NoExits, totalFootTraffic]\n",
       "Index: []"
      ]
     },
     "execution_count": 12,
     "metadata": {},
     "output_type": "execute_result"
    }
   ],
   "source": [
    "combined[(combined['STATION']=='LORIMER ST') & (combined.DATE == '03/26/2017')].sort_values('NoEntries')"
   ]
  },
  {
   "cell_type": "markdown",
   "metadata": {},
   "source": [
    "Here is an example of a turnstile at Lorimer Street that jumped ahead by order of magnitudes"
   ]
  },
  {
   "cell_type": "code",
   "execution_count": 13,
   "metadata": {},
   "outputs": [
    {
     "data": {
      "text/html": [
       "<div>\n",
       "<style>\n",
       "    .dataframe thead tr:only-child th {\n",
       "        text-align: right;\n",
       "    }\n",
       "\n",
       "    .dataframe thead th {\n",
       "        text-align: left;\n",
       "    }\n",
       "\n",
       "    .dataframe tbody tr th {\n",
       "        vertical-align: top;\n",
       "    }\n",
       "</style>\n",
       "<table border=\"1\" class=\"dataframe\">\n",
       "  <thead>\n",
       "    <tr style=\"text-align: right;\">\n",
       "      <th></th>\n",
       "      <th>C/A</th>\n",
       "      <th>UNIT</th>\n",
       "      <th>SCP</th>\n",
       "      <th>STATION</th>\n",
       "      <th>LINENAME</th>\n",
       "      <th>DIVISION</th>\n",
       "      <th>DATE</th>\n",
       "      <th>TIME</th>\n",
       "      <th>DESC</th>\n",
       "      <th>ENTRIES</th>\n",
       "      <th>EXITS</th>\n",
       "      <th>dateTime</th>\n",
       "    </tr>\n",
       "  </thead>\n",
       "  <tbody>\n",
       "  </tbody>\n",
       "</table>\n",
       "</div>"
      ],
      "text/plain": [
       "Empty DataFrame\n",
       "Columns: [C/A, UNIT, SCP, STATION, LINENAME, DIVISION, DATE, TIME, DESC, ENTRIES, EXITS, dateTime]\n",
       "Index: []"
      ]
     },
     "execution_count": 13,
     "metadata": {},
     "output_type": "execute_result"
    }
   ],
   "source": [
    "df[(df.STATION=='LORIMER ST') & \n",
    "   (df.DATE == '04/06/2016') & \n",
    "   (df.UNIT =='R353') &\n",
    "   (df.SCP == '00-00-01')].sort_values('dateTime')"
   ]
  },
  {
   "cell_type": "markdown",
   "metadata": {},
   "source": [
    "### Second Approach: ###"
   ]
  },
  {
   "cell_type": "markdown",
   "metadata": {},
   "source": [
    "Group by and then calculate diffs between entries/exits to get incremental entries/exits"
   ]
  },
  {
   "cell_type": "code",
   "execution_count": 14,
   "metadata": {},
   "outputs": [],
   "source": [
    "key = ['C/A',\n",
    "'UNIT',\n",
    "'SCP',\n",
    "'STATION']\n",
    "\n",
    "def calcDiff(df):\n",
    "    df = df.sort_values('dateTime')\n",
    "    df['Incr_ENTRIES'] =  df.ENTRIES - df.ENTRIES.shift(1)\n",
    "    df['Incr_EXITS'] = df.EXITS - df.EXITS.shift(1)\n",
    "    return(df)\n",
    "\n",
    "\n",
    "newDF = df.groupby(key, as_index=False).apply(lambda x: calcDiff(x)).reset_index()"
   ]
  },
  {
   "cell_type": "markdown",
   "metadata": {},
   "source": [
    "Rename new columns"
   ]
  },
  {
   "cell_type": "code",
   "execution_count": 15,
   "metadata": {},
   "outputs": [],
   "source": [
    "newDF = newDF[list(df.columns.values) + ['Incr_ENTRIES', 'Incr_EXITS']]"
   ]
  },
  {
   "cell_type": "markdown",
   "metadata": {},
   "source": [
    "### Control for outliers ###"
   ]
  },
  {
   "cell_type": "code",
   "execution_count": 16,
   "metadata": {},
   "outputs": [
    {
     "data": {
      "text/plain": [
       "REGULAR       1739748\n",
       "RECOVR AUD       6009\n",
       "Name: DESC, dtype: int64"
      ]
     },
     "execution_count": 16,
     "metadata": {},
     "output_type": "execute_result"
    }
   ],
   "source": [
    "newDF.DESC.value_counts()"
   ]
  },
  {
   "cell_type": "markdown",
   "metadata": {},
   "source": [
    "Removing audit entries"
   ]
  },
  {
   "cell_type": "code",
   "execution_count": 17,
   "metadata": {},
   "outputs": [],
   "source": [
    "newDF = newDF[newDF.DESC != 'RECOVR AUD']"
   ]
  },
  {
   "cell_type": "markdown",
   "metadata": {},
   "source": [
    "remove outlier by kicking out all negative incr_ENTRIES and incr_EXITS"
   ]
  },
  {
   "cell_type": "code",
   "execution_count": 18,
   "metadata": {},
   "outputs": [],
   "source": [
    "newDF = newDF.loc[(newDF['Incr_ENTRIES']>0) & (newDF['Incr_EXITS']>0),]"
   ]
  },
  {
   "cell_type": "code",
   "execution_count": 19,
   "metadata": {},
   "outputs": [
    {
     "data": {
      "text/plain": [
       "count    1.422986e+06\n",
       "mean     6.539056e+03\n",
       "std      3.238798e+06\n",
       "min      1.000000e+00\n",
       "25%      3.500000e+01\n",
       "50%      1.250000e+02\n",
       "75%      3.080000e+02\n",
       "max      2.122355e+09\n",
       "Name: Incr_ENTRIES, dtype: float64"
      ]
     },
     "execution_count": 19,
     "metadata": {},
     "output_type": "execute_result"
    }
   ],
   "source": [
    "newDF['Incr_ENTRIES'].describe()"
   ]
  },
  {
   "cell_type": "code",
   "execution_count": 20,
   "metadata": {},
   "outputs": [],
   "source": [
    "newDF['totalFootTraffic'] = newDF['Incr_ENTRIES'] + newDF['Incr_EXITS']"
   ]
  },
  {
   "cell_type": "code",
   "execution_count": 41,
   "metadata": {},
   "outputs": [
    {
     "data": {
      "text/html": [
       "<div>\n",
       "<table border=\"1\" class=\"dataframe\">\n",
       "  <thead>\n",
       "    <tr style=\"text-align: right;\">\n",
       "      <th></th>\n",
       "      <th>sum</th>\n",
       "    </tr>\n",
       "    <tr>\n",
       "      <th>STATION</th>\n",
       "      <th></th>\n",
       "    </tr>\n",
       "  </thead>\n",
       "  <tbody>\n",
       "    <tr>\n",
       "      <th>57 ST</th>\n",
       "      <td>3.459017e+09</td>\n",
       "    </tr>\n",
       "    <tr>\n",
       "      <th>18 AV</th>\n",
       "      <td>3.404523e+09</td>\n",
       "    </tr>\n",
       "    <tr>\n",
       "      <th>59 ST</th>\n",
       "      <td>2.722977e+09</td>\n",
       "    </tr>\n",
       "    <tr>\n",
       "      <th>MORISN AV/SNDVW</th>\n",
       "      <td>1.554872e+09</td>\n",
       "    </tr>\n",
       "    <tr>\n",
       "      <th>LORIMER ST</th>\n",
       "      <td>1.003559e+09</td>\n",
       "    </tr>\n",
       "    <tr>\n",
       "      <th>86 ST</th>\n",
       "      <td>1.759065e+08</td>\n",
       "    </tr>\n",
       "    <tr>\n",
       "      <th>28 ST</th>\n",
       "      <td>1.382835e+08</td>\n",
       "    </tr>\n",
       "    <tr>\n",
       "      <th>47-50 STS ROCK</th>\n",
       "      <td>1.022195e+08</td>\n",
       "    </tr>\n",
       "    <tr>\n",
       "      <th>TIMES SQ-42 ST</th>\n",
       "      <td>9.368863e+07</td>\n",
       "    </tr>\n",
       "    <tr>\n",
       "      <th>3 AV-149 ST</th>\n",
       "      <td>8.554408e+07</td>\n",
       "    </tr>\n",
       "    <tr>\n",
       "      <th>GRD CNTRL-42 ST</th>\n",
       "      <td>5.592002e+07</td>\n",
       "    </tr>\n",
       "    <tr>\n",
       "      <th>72 ST-2 AVE</th>\n",
       "      <td>3.625376e+07</td>\n",
       "    </tr>\n",
       "    <tr>\n",
       "      <th>34 ST-PENN STA</th>\n",
       "      <td>1.660552e+07</td>\n",
       "    </tr>\n",
       "    <tr>\n",
       "      <th>34 ST-HERALD SQ</th>\n",
       "      <td>1.224410e+07</td>\n",
       "    </tr>\n",
       "    <tr>\n",
       "      <th>23 ST</th>\n",
       "      <td>1.095250e+07</td>\n",
       "    </tr>\n",
       "    <tr>\n",
       "      <th>14 ST-UNION SQ</th>\n",
       "      <td>1.094491e+07</td>\n",
       "    </tr>\n",
       "    <tr>\n",
       "      <th>42 ST-PORT AUTH</th>\n",
       "      <td>9.073339e+06</td>\n",
       "    </tr>\n",
       "    <tr>\n",
       "      <th>FULTON ST</th>\n",
       "      <td>8.872094e+06</td>\n",
       "    </tr>\n",
       "    <tr>\n",
       "      <th>59 ST COLUMBUS</th>\n",
       "      <td>7.284974e+06</td>\n",
       "    </tr>\n",
       "    <tr>\n",
       "      <th>125 ST</th>\n",
       "      <td>7.239485e+06</td>\n",
       "    </tr>\n",
       "  </tbody>\n",
       "</table>\n",
       "</div>"
      ],
      "text/plain": [
       "                          sum\n",
       "STATION                      \n",
       "57 ST            3.459017e+09\n",
       "18 AV            3.404523e+09\n",
       "59 ST            2.722977e+09\n",
       "MORISN AV/SNDVW  1.554872e+09\n",
       "LORIMER ST       1.003559e+09\n",
       "86 ST            1.759065e+08\n",
       "28 ST            1.382835e+08\n",
       "47-50 STS ROCK   1.022195e+08\n",
       "TIMES SQ-42 ST   9.368863e+07\n",
       "3 AV-149 ST      8.554408e+07\n",
       "GRD CNTRL-42 ST  5.592002e+07\n",
       "72 ST-2 AVE      3.625376e+07\n",
       "34 ST-PENN STA   1.660552e+07\n",
       "34 ST-HERALD SQ  1.224410e+07\n",
       "23 ST            1.095250e+07\n",
       "14 ST-UNION SQ   1.094491e+07\n",
       "42 ST-PORT AUTH  9.073339e+06\n",
       "FULTON ST        8.872094e+06\n",
       "59 ST COLUMBUS   7.284974e+06\n",
       "125 ST           7.239485e+06"
      ]
     },
     "execution_count": 41,
     "metadata": {},
     "output_type": "execute_result"
    }
   ],
   "source": [
    "key = ['C/A',\n",
    "'UNIT',\n",
    "'SCP',\n",
    "'STATION']\n",
    "\n",
    "newDF.groupby(['STATION']).totalFootTraffic.agg(['sum']).sort_values('sum', ascending=False).head(20)\n",
    "#newDF.groupby(key, as_index=False).totalFootTraffic.agg(['sum']).sort_values('sum', ascending=False).reset_index()\n",
    "#newDF.groupby(key, as_index=False).totalFootTraffic.agg(['sum']).sort_values('sum', ascending=False).reset_index()"
   ]
  },
  {
   "cell_type": "code",
   "execution_count": 21,
   "metadata": {},
   "outputs": [
    {
     "data": {
      "text/plain": [
       "count    1.422986e+06\n",
       "mean     6.539056e+03\n",
       "std      3.238798e+06\n",
       "min      1.000000e+00\n",
       "25%      3.500000e+01\n",
       "50%      1.250000e+02\n",
       "75%      3.080000e+02\n",
       "max      2.122355e+09\n",
       "Name: Incr_ENTRIES, dtype: float64"
      ]
     },
     "execution_count": 21,
     "metadata": {},
     "output_type": "execute_result"
    }
   ],
   "source": [
    "newDF.Incr_ENTRIES.describe()"
   ]
  },
  {
   "cell_type": "markdown",
   "metadata": {},
   "source": [
    "Removing rows where the change between two adjacent lines is too large"
   ]
  },
  {
   "cell_type": "code",
   "execution_count": 22,
   "metadata": {},
   "outputs": [],
   "source": [
    "newDF = newDF.loc[(newDF.Incr_ENTRIES < 20000) & (newDF.Incr_EXITS < 20000),]"
   ]
  },
  {
   "cell_type": "code",
   "execution_count": 23,
   "metadata": {
    "scrolled": true
   },
   "outputs": [
    {
     "data": {
      "text/plain": [
       "count    1.422942e+06\n",
       "mean     2.251518e+02\n",
       "std      2.854805e+02\n",
       "min      1.000000e+00\n",
       "25%      3.500000e+01\n",
       "50%      1.240000e+02\n",
       "75%      3.080000e+02\n",
       "max      1.921400e+04\n",
       "Name: Incr_ENTRIES, dtype: float64"
      ]
     },
     "execution_count": 23,
     "metadata": {},
     "output_type": "execute_result"
    }
   ],
   "source": [
    "newDF.Incr_ENTRIES.describe()"
   ]
  },
  {
   "cell_type": "code",
   "execution_count": 24,
   "metadata": {},
   "outputs": [
    {
     "data": {
      "text/plain": [
       "count    0.0\n",
       "mean     NaN\n",
       "std      NaN\n",
       "min      NaN\n",
       "25%      NaN\n",
       "50%      NaN\n",
       "75%      NaN\n",
       "max      NaN\n",
       "Name: totalFootTraffic, dtype: float64"
      ]
     },
     "execution_count": 24,
     "metadata": {},
     "output_type": "execute_result"
    }
   ],
   "source": [
    "newDF[(newDF.STATION =='34 ST-PENN STA')].totalFootTraffic.describe()"
   ]
  },
  {
   "cell_type": "markdown",
   "metadata": {},
   "source": [
    "Now it looks better"
   ]
  },
  {
   "cell_type": "code",
   "execution_count": 30,
   "metadata": {
    "scrolled": false
   },
   "outputs": [
    {
     "data": {
      "text/html": [
       "<div>\n",
       "<style>\n",
       "    .dataframe thead tr:only-child th {\n",
       "        text-align: right;\n",
       "    }\n",
       "\n",
       "    .dataframe thead th {\n",
       "        text-align: left;\n",
       "    }\n",
       "\n",
       "    .dataframe tbody tr th {\n",
       "        vertical-align: top;\n",
       "    }\n",
       "</style>\n",
       "<table border=\"1\" class=\"dataframe\">\n",
       "  <thead>\n",
       "    <tr style=\"text-align: right;\">\n",
       "      <th></th>\n",
       "      <th>sum</th>\n",
       "    </tr>\n",
       "    <tr>\n",
       "      <th>STATION</th>\n",
       "      <th></th>\n",
       "    </tr>\n",
       "  </thead>\n",
       "  <tbody>\n",
       "    <tr>\n",
       "      <th>GRD CNTRL-42 ST_4567S</th>\n",
       "      <td>14630696.0</td>\n",
       "    </tr>\n",
       "    <tr>\n",
       "      <th>34 ST-HERALD SQ_BDFMNQR</th>\n",
       "      <td>12488532.0</td>\n",
       "    </tr>\n",
       "    <tr>\n",
       "      <th>TIMES SQ-42 ST_1237ACENQRS</th>\n",
       "      <td>8774352.0</td>\n",
       "    </tr>\n",
       "    <tr>\n",
       "      <th>34 ST-PENN STA_ACE</th>\n",
       "      <td>8405658.0</td>\n",
       "    </tr>\n",
       "    <tr>\n",
       "      <th>14 ST-UNION SQ_LNQR456</th>\n",
       "      <td>7658915.0</td>\n",
       "    </tr>\n",
       "    <tr>\n",
       "      <th>42 ST-PORT AUTH_ACENQRS1237</th>\n",
       "      <td>7430509.0</td>\n",
       "    </tr>\n",
       "    <tr>\n",
       "      <th>86 ST_456</th>\n",
       "      <td>6677214.0</td>\n",
       "    </tr>\n",
       "    <tr>\n",
       "      <th>47-50 STS ROCK_BDFM</th>\n",
       "      <td>6280452.0</td>\n",
       "    </tr>\n",
       "    <tr>\n",
       "      <th>FLUSHING-MAIN_7</th>\n",
       "      <td>6051475.0</td>\n",
       "    </tr>\n",
       "    <tr>\n",
       "      <th>59 ST COLUMBUS_ABCD1</th>\n",
       "      <td>5654312.0</td>\n",
       "    </tr>\n",
       "  </tbody>\n",
       "</table>\n",
       "</div>"
      ],
      "text/plain": [
       "                                    sum\n",
       "STATION                                \n",
       "GRD CNTRL-42 ST_4567S        14630696.0\n",
       "34 ST-HERALD SQ_BDFMNQR      12488532.0\n",
       "TIMES SQ-42 ST_1237ACENQRS    8774352.0\n",
       "34 ST-PENN STA_ACE            8405658.0\n",
       "14 ST-UNION SQ_LNQR456        7658915.0\n",
       "42 ST-PORT AUTH_ACENQRS1237   7430509.0\n",
       "86 ST_456                     6677214.0\n",
       "47-50 STS ROCK_BDFM           6280452.0\n",
       "FLUSHING-MAIN_7               6051475.0\n",
       "59 ST COLUMBUS_ABCD1          5654312.0"
      ]
     },
     "execution_count": 30,
     "metadata": {},
     "output_type": "execute_result"
    }
   ],
   "source": [
    "newDF.groupby(['STATION']).totalFootTraffic.agg(['sum']).sort_values('sum', ascending=False).head(10)"
   ]
  },
  {
   "cell_type": "markdown",
   "metadata": {},
   "source": [
    "**For clean data use newDF from this point on**"
   ]
  },
  {
   "cell_type": "markdown",
   "metadata": {},
   "source": [
    "Top 10 busiest station"
   ]
  },
  {
   "cell_type": "code",
   "execution_count": 31,
   "metadata": {},
   "outputs": [
    {
     "data": {
      "image/png": "[encoded data removed]",
      "text/plain": [
       "<matplotlib.figure.Figure at 0x10ff6d080>"
      ]
     },
     "metadata": {},
     "output_type": "display_data"
    }
   ],
   "source": [
    "plt.figure(figsize=(14, 8))\n",
    "plt.title(\"Total Traffic For Top 10 Stations\")\n",
    "graph1DF = newDF.groupby(['STATION']).totalFootTraffic.agg(['sum']).reset_index()\n",
    "graph1DF = graph1DF.nlargest(10,'sum')\n",
    "sns.barplot(x=\"sum\", y=\"STATION\", orient = \"h\", data=graph1DF, palette = \"Blues_d\")\n",
    "plt.savefig('10TopStations.png', dpi = 1000)"
   ]
  },
  {
   "cell_type": "code",
   "execution_count": 32,
   "metadata": {
    "collapsed": true
   },
   "outputs": [],
   "source": [
    "newDF['dayOfWeek'] = newDF.dateTime.dt.weekday_name"
   ]
  },
  {
   "cell_type": "code",
   "execution_count": 33,
   "metadata": {
    "collapsed": true
   },
   "outputs": [],
   "source": [
    "newDF['IsWeekday'] = False\n",
    "newDF.loc[(newDF.dayOfWeek != 'Sunday') & (newDF.dayOfWeek != 'Saturday'),'IsWeekday'] = True"
   ]
  },
  {
   "cell_type": "markdown",
   "metadata": {},
   "source": [
    "Avg. Entries for Top 10 Stations"
   ]
  },
  {
   "cell_type": "code",
   "execution_count": 34,
   "metadata": {},
   "outputs": [
    {
     "data": {
      "image/png": "[encoded data removed]",
      "text/plain": [
       "<matplotlib.figure.Figure at 0x10ff69f28>"
      ]
     },
     "metadata": {},
     "output_type": "display_data"
    }
   ],
   "source": [
    "#Avg Entries For Top 10 Stations\n",
    "entriesByStDt = newDF.groupby(['STATION','DATE','dayOfWeek']).Incr_ENTRIES.sum().reset_index()\n",
    "\n",
    "top10St = entriesByStDt.groupby('STATION').Incr_ENTRIES.sum().reset_index().nlargest(10,'Incr_ENTRIES')[['STATION']]\n",
    "\n",
    "entriesTop10St = top10St.merge(entriesByStDt, on='STATION')\n",
    "\n",
    "plt.figure(figsize=(14, 8))\n",
    "plt.title(\"Avg Entries For Top 10 Stations\")\n",
    "ax = sns.barplot(x=\"Incr_ENTRIES\", y=\"STATION\", orient = \"h\", data=entriesTop10St, ci=None, palette = \"Reds_d\")\n",
    "ax.set(xlabel='Avg. Entries', ylabel='STATION')\n",
    "\n",
    "plt.savefig('AverageEntriesForTop10Stations.png', dpi=1000)"
   ]
  },
  {
   "cell_type": "markdown",
   "metadata": {},
   "source": [
    "Generate map with 10 top busiest stations mapped"
   ]
  },
  {
   "cell_type": "code",
   "execution_count": 35,
   "metadata": {
    "collapsed": true
   },
   "outputs": [],
   "source": [
    "from bokeh.io import output_file, show\n",
    "from bokeh.models import (\n",
    "  GMapPlot, GMapOptions, ColumnDataSource, Circle, DataRange1d, PanTool, WheelZoomTool, BoxSelectTool\n",
    ")"
   ]
  },
  {
   "cell_type": "code",
   "execution_count": 36,
   "metadata": {
    "collapsed": true
   },
   "outputs": [],
   "source": [
    "map_options = GMapOptions(lat=40.70, lng=-73.85, map_type=\"roadmap\", zoom=11)\n",
    "\n",
    "plot = GMapPlot(\n",
    "    x_range=DataRange1d(), y_range=DataRange1d(), map_options=map_options\n",
    ")"
   ]
  },
  {
   "cell_type": "code",
   "execution_count": 37,
   "metadata": {},
   "outputs": [],
   "source": [
    "%matplotlib inline\n",
    "plot.api_key = \"bokeh api key here\"\n",
    "\n",
    "\n",
    "### grnd central, penn, 34th herald square, 23 st, 14stunion sq, times sq 42, 42nd st port, fulton, 86th st, 125th st\n",
    "source = ColumnDataSource(\n",
    "    data=dict(\n",
    "        lat=[40.751849, 40.749533, 40.752247, 40.757303, 40.734836, 40.755905, 40.709938, 40.758652, 40.76811, 40.759578],\n",
    "        lon=[-73.976945, -73.987899, -73.993456, -73.989787, -73.990688, -73.986504, -74.007983, -73.981311, -73.981891,-73.830056],\n",
    "    )\n",
    ")\n",
    "\n",
    "circle = Circle(x=\"lon\", y=\"lat\", size=8, fill_color=\"red\", fill_alpha=0.6, line_color=None)\n",
    "plot.add_glyph(source, circle)\n",
    "\n",
    "plot.add_tools(PanTool(), WheelZoomTool(), BoxSelectTool())\n",
    "output_file(\"gmap_plot.html\")\n",
    "show(plot)"
   ]
  },
  {
   "cell_type": "code",
   "execution_count": 38,
   "metadata": {
    "collapsed": true
   },
   "outputs": [],
   "source": [
    "newDF['hour'] = newDF.dateTime.dt.hour"
   ]
  },
  {
   "cell_type": "code",
   "execution_count": 39,
   "metadata": {},
   "outputs": [],
   "source": [
    "key = ['C/A',\n",
    "'UNIT',\n",
    "'SCP',\n",
    "'STATION',\n",
    "'DATE']\n",
    "\n",
    "newDF['interval'] = newDF.groupby(key).hour.apply(lambda x: pd.cut(x,[0,4,8,12,16,20,24]))\n",
    "\n",
    "#newDF.TIME.value_counts().head(15)\n",
    "compactedByTimeInterval = newDF.groupby(['C/A',\n",
    "'UNIT',\n",
    "'SCP',\n",
    "'STATION',\n",
    "'DATE',\n",
    "'interval']).Incr_ENTRIES.sum().reset_index()\n",
    "\n",
    "compactedByTimeInterval['dayOfWeek'] = pd.to_datetime(compactedByTimeInterval.DATE).dt.weekday_name"
   ]
  },
  {
   "cell_type": "code",
   "execution_count": 40,
   "metadata": {},
   "outputs": [
    {
     "data": {
      "image/png": "[encoded data removed]",
      "text/plain": [
       "<matplotlib.figure.Figure at 0x10c4127b8>"
      ]
     },
     "metadata": {},
     "output_type": "display_data"
    }
   ],
   "source": [
    "t = (compactedByTimeInterval[(compactedByTimeInterval.dayOfWeek != 'Sunday') & (compactedByTimeInterval.dayOfWeek != 'Saturday')]\n",
    " .groupby(['STATION', 'DATE','dayOfWeek', 'interval'])\n",
    " .Incr_ENTRIES.sum()\n",
    " .reset_index()\n",
    " .merge(top10St, on='STATION', how='right')\n",
    " .groupby(['STATION','dayOfWeek','interval'])\n",
    " .Incr_ENTRIES.sum()\n",
    " .reset_index()\n",
    ")\n",
    "t2 = top10St.head(5).merge(t, on='STATION')\n",
    "\n",
    "fig = plt.figure()\n",
    "ax = sns.swarmplot(x=\"interval\", y=\"Incr_ENTRIES\", hue='STATION', data=t2,size=9);\n",
    "ax.set_title('Entries into Busiest Stations by Time, weekdays')\n",
    "ax.set_ylabel('Avg. Entries')\n",
    "ax.set_xlabel('Time')\n",
    "fig.set_size_inches(14,8)\n",
    "fig.savefig('entriesIntoBusiestStations.png',dpi=1000)"
   ]
  },
  {
   "cell_type": "code",
   "execution_count": 41,
   "metadata": {},
   "outputs": [
    {
     "data": {
      "image/png": "[encoded data removed]",
      "text/plain": [
       "<matplotlib.figure.Figure at 0x1316c9588>"
      ]
     },
     "metadata": {},
     "output_type": "display_data"
    }
   ],
   "source": [
    "top10 = list(newDF.groupby(['STATION']).Incr_ENTRIES.agg(['sum']).sort_values('sum', ascending=False).head(10).reset_index()['STATION'])\n",
    "tDF = newDF.groupby([\n",
    "'STATION',\n",
    " 'DATE','dayOfWeek']).Incr_ENTRIES.agg(\"sum\").reset_index()\n",
    "\n",
    "tDF2 = tDF[tDF.STATION.isin(top10)]\n",
    "tDF3 = tDF2.groupby([\"STATION\", \"dayOfWeek\"]).Incr_ENTRIES.mean().reset_index()\n",
    "tDF3\n",
    "tDF4 = tDF3.pivot(\"STATION\", \"dayOfWeek\", \"Incr_ENTRIES\")\n",
    "tDF4 = tDF4[[\"Sunday\", \"Monday\", \"Tuesday\", \"Wednesday\", \"Thursday\", \"Friday\", \"Saturday\"]]\n",
    "fig = plt.figure()\n",
    "sns.heatmap(tDF4)\n",
    "plt.xticks(rotation=\"vertical\")\n",
    "plt.title(\"Mean Entry Ridership by Day\")\n",
    "fig.set_size_inches(14,8)\n",
    "fig.savefig(\"MeanEntriesbyDay.png\",dpi=1000)"
   ]
  },
  {
   "cell_type": "code",
   "execution_count": null,
   "metadata": {
    "collapsed": true
   },
   "outputs": [],
   "source": []
  }
 ],
 "metadata": {
  "celltoolbar": "Raw Cell Format",
  "kernelspec": {
   "display_name": "Python 3",
   "language": "python",
   "name": "python3"
  },
  "language_info": {
   "codemirror_mode": {
    "name": "ipython",
    "version": 3
   },
   "file_extension": ".py",
   "mimetype": "text/x-python",
   "name": "python",
   "nbconvert_exporter": "python",
   "pygments_lexer": "ipython3",
   "version": "3.6.3"
  }
 },
 "nbformat": 4,
 "nbformat_minor": 2
}
