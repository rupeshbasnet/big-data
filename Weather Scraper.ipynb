{
 "cells": [
  {
   "cell_type": "code",
   "execution_count": 2,
   "metadata": {},
   "outputs": [
    {
     "name": "stdout",
     "output_type": "stream",
     "text": [
      "https://www.wunderground.com/cgi-bin/findweather/getForecast?airportorwmo=query&historytype=DailyHistory&backurl=/history/index.html&code=KNYC&month=1&day=30&year=2018\n"
     ]
    }
   ],
   "source": [
    "formatted_url = 'https://www.wunderground.com/cgi-bin/findweather/' \\\n",
    "                    'getForecast?airportorwmo=query&historytype=DailyHistory&backurl=/history/index.html&' \\\n",
    "                    'code=%s&month=%s&day=%s&year=%s' \\\n",
    "                    % ('KNYC', 1, 30, 2018)\n",
    "print (formatted_url)"
   ]
  },
  {
   "cell_type": "code",
   "execution_count": null,
   "metadata": {},
   "outputs": [],
   "source": []
  }
 ],
 "metadata": {
  "kernelspec": {
   "display_name": "Python 2",
   "language": "python",
   "name": "python2"
  },
  "language_info": {
   "codemirror_mode": {
    "name": "ipython",
    "version": 2
   },
   "file_extension": ".py",
   "mimetype": "text/x-python",
   "name": "python",
   "nbconvert_exporter": "python",
   "pygments_lexer": "ipython2",
   "version": "2.7.14"
  }
 },
 "nbformat": 4,
 "nbformat_minor": 2
}
