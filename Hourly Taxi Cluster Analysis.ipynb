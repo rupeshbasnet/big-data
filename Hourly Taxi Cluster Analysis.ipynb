{
 "cells": [
  {
   "cell_type": "code",
   "execution_count": 1,
   "metadata": {},
   "outputs": [],
   "source": [
    "import pandas as pd\n",
    "import matplotlib.pyplot as plt\n",
    "import seaborn as sns\n",
    "import csv \n",
    "import dateutil"
   ]
  },
  {
   "cell_type": "code",
   "execution_count": 29,
   "metadata": {},
   "outputs": [
    {
     "data": {
      "text/html": [
       "<div>\n",
       "<style scoped>\n",
       "    .dataframe tbody tr th:only-of-type {\n",
       "        vertical-align: middle;\n",
       "    }\n",
       "\n",
       "    .dataframe tbody tr th {\n",
       "        vertical-align: top;\n",
       "    }\n",
       "\n",
       "    .dataframe thead th {\n",
       "        text-align: right;\n",
       "    }\n",
       "</style>\n",
       "<table border=\"1\" class=\"dataframe\">\n",
       "  <thead>\n",
       "    <tr style=\"text-align: right;\">\n",
       "      <th></th>\n",
       "      <th>Unnamed: 0</th>\n",
       "      <th>Unnamed: 0.1</th>\n",
       "      <th>DateString</th>\n",
       "      <th>TimeEST</th>\n",
       "      <th>Conditions</th>\n",
       "      <th>DateTime</th>\n",
       "      <th>HourofDay</th>\n",
       "    </tr>\n",
       "  </thead>\n",
       "  <tbody>\n",
       "    <tr>\n",
       "      <th>0</th>\n",
       "      <td>0</td>\n",
       "      <td>0</td>\n",
       "      <td>2016-01-01</td>\n",
       "      <td>12:51 AM</td>\n",
       "      <td>Favorable</td>\n",
       "      <td>2016-01-01 00:51:00</td>\n",
       "      <td>0</td>\n",
       "    </tr>\n",
       "    <tr>\n",
       "      <th>1</th>\n",
       "      <td>1</td>\n",
       "      <td>1</td>\n",
       "      <td>2016-01-01</td>\n",
       "      <td>1:51 AM</td>\n",
       "      <td>Favorable</td>\n",
       "      <td>2016-01-01 01:51:00</td>\n",
       "      <td>1</td>\n",
       "    </tr>\n",
       "    <tr>\n",
       "      <th>2</th>\n",
       "      <td>2</td>\n",
       "      <td>2</td>\n",
       "      <td>2016-01-01</td>\n",
       "      <td>2:51 AM</td>\n",
       "      <td>Favorable</td>\n",
       "      <td>2016-01-01 02:51:00</td>\n",
       "      <td>2</td>\n",
       "    </tr>\n",
       "    <tr>\n",
       "      <th>3</th>\n",
       "      <td>3</td>\n",
       "      <td>3</td>\n",
       "      <td>2016-01-01</td>\n",
       "      <td>3:51 AM</td>\n",
       "      <td>Favorable</td>\n",
       "      <td>2016-01-01 03:51:00</td>\n",
       "      <td>3</td>\n",
       "    </tr>\n",
       "    <tr>\n",
       "      <th>4</th>\n",
       "      <td>4</td>\n",
       "      <td>4</td>\n",
       "      <td>2016-01-01</td>\n",
       "      <td>4:51 AM</td>\n",
       "      <td>Favorable</td>\n",
       "      <td>2016-01-01 04:51:00</td>\n",
       "      <td>4</td>\n",
       "    </tr>\n",
       "  </tbody>\n",
       "</table>\n",
       "</div>"
      ],
      "text/plain": [
       "   Unnamed: 0  Unnamed: 0.1  DateString   TimeEST Conditions  \\\n",
       "0           0             0  2016-01-01  12:51 AM  Favorable   \n",
       "1           1             1  2016-01-01   1:51 AM  Favorable   \n",
       "2           2             2  2016-01-01   2:51 AM  Favorable   \n",
       "3           3             3  2016-01-01   3:51 AM  Favorable   \n",
       "4           4             4  2016-01-01   4:51 AM  Favorable   \n",
       "\n",
       "              DateTime  HourofDay  \n",
       "0  2016-01-01 00:51:00          0  \n",
       "1  2016-01-01 01:51:00          1  \n",
       "2  2016-01-01 02:51:00          2  \n",
       "3  2016-01-01 03:51:00          3  \n",
       "4  2016-01-01 04:51:00          4  "
      ]
     },
     "execution_count": 29,
     "metadata": {},
     "output_type": "execute_result"
    }
   ],
   "source": [
    "dfWeather= pd.read_csv('Data/FinalWeather2016Hourly.csv')\n",
    "\n",
    "dfWeather = dfWeather.rename(columns = {'date': 'DateString'})\n",
    "dfWeather = dfWeather.rename(columns = {'HourOfDay': 'HourofDay'})\n",
    "dfWeather.head()"
   ]
  },
  {
   "cell_type": "code",
   "execution_count": 12,
   "metadata": {},
   "outputs": [],
   "source": [
    "dfTaxiJan = pd.read_csv('Data/jan.csv')\n",
    "dfTaxiFeb = pd.read_csv('Data/feb.csv')\n",
    "dfTaxiMarch = pd.read_csv('Data/march.csv')\n",
    "dfTaxiApril = pd.read_csv('Data/april.csv')\n",
    "dfTaxiMay = pd.read_csv('Data/may.csv')\n",
    "dfTaxiJun = pd.read_csv('Data/jun.csv')"
   ]
  },
  {
   "cell_type": "code",
   "execution_count": 14,
   "metadata": {},
   "outputs": [],
   "source": [
    "import datetime\n",
    "dfTaxiJan['Date'] = pd.to_datetime(dfTaxiJan.Date)\n",
    "dfTaxiFeb['Date'] = pd.to_datetime(dfTaxiFeb.Date)\n",
    "dfTaxiMarch['Date'] = pd.to_datetime(dfTaxiMarch.Date)\n",
    "dfTaxiApril['Date'] = pd.to_datetime(dfTaxiApril.Date)\n",
    "dfTaxiMay['Date'] = pd.to_datetime(dfTaxiMay.Date)\n",
    "dfTaxiJun['Date'] = pd.to_datetime(dfTaxiJun.Date)"
   ]
  },
  {
   "cell_type": "code",
   "execution_count": 16,
   "metadata": {},
   "outputs": [],
   "source": [
    "frame = [dfTaxiJan, dfTaxiFeb, dfTaxiMarch, dfTaxiApril, dfTaxiMay, dfTaxiJun]\n",
    "result = pd.concat(frame)"
   ]
  },
  {
   "cell_type": "code",
   "execution_count": 17,
   "metadata": {},
   "outputs": [
    {
     "data": {
      "text/plain": [
       "(4368, 3)"
      ]
     },
     "execution_count": 17,
     "metadata": {},
     "output_type": "execute_result"
    }
   ],
   "source": [
    "result.shape"
   ]
  },
  {
   "cell_type": "code",
   "execution_count": 18,
   "metadata": {},
   "outputs": [
    {
     "data": {
      "text/html": [
       "<div>\n",
       "<style scoped>\n",
       "    .dataframe tbody tr th:only-of-type {\n",
       "        vertical-align: middle;\n",
       "    }\n",
       "\n",
       "    .dataframe tbody tr th {\n",
       "        vertical-align: top;\n",
       "    }\n",
       "\n",
       "    .dataframe thead th {\n",
       "        text-align: right;\n",
       "    }\n",
       "</style>\n",
       "<table border=\"1\" class=\"dataframe\">\n",
       "  <thead>\n",
       "    <tr style=\"text-align: right;\">\n",
       "      <th></th>\n",
       "      <th>Date</th>\n",
       "      <th>HourofDay</th>\n",
       "      <th>count</th>\n",
       "    </tr>\n",
       "  </thead>\n",
       "  <tbody>\n",
       "    <tr>\n",
       "      <th>0</th>\n",
       "      <td>2016-01-27</td>\n",
       "      <td>1</td>\n",
       "      <td>5073</td>\n",
       "    </tr>\n",
       "    <tr>\n",
       "      <th>1</th>\n",
       "      <td>2016-01-29</td>\n",
       "      <td>17</td>\n",
       "      <td>21195</td>\n",
       "    </tr>\n",
       "    <tr>\n",
       "      <th>2</th>\n",
       "      <td>2016-01-06</td>\n",
       "      <td>12</td>\n",
       "      <td>16901</td>\n",
       "    </tr>\n",
       "    <tr>\n",
       "      <th>3</th>\n",
       "      <td>2016-01-02</td>\n",
       "      <td>2</td>\n",
       "      <td>6644</td>\n",
       "    </tr>\n",
       "    <tr>\n",
       "      <th>4</th>\n",
       "      <td>2016-01-17</td>\n",
       "      <td>10</td>\n",
       "      <td>15803</td>\n",
       "    </tr>\n",
       "  </tbody>\n",
       "</table>\n",
       "</div>"
      ],
      "text/plain": [
       "        Date  HourofDay  count\n",
       "0 2016-01-27          1   5073\n",
       "1 2016-01-29         17  21195\n",
       "2 2016-01-06         12  16901\n",
       "3 2016-01-02          2   6644\n",
       "4 2016-01-17         10  15803"
      ]
     },
     "execution_count": 18,
     "metadata": {},
     "output_type": "execute_result"
    }
   ],
   "source": [
    "result.head()"
   ]
  },
  {
   "cell_type": "code",
   "execution_count": 21,
   "metadata": {},
   "outputs": [],
   "source": []
  },
  {
   "cell_type": "code",
   "execution_count": 24,
   "metadata": {},
   "outputs": [],
   "source": [
    "result['DateString'] = result['Date'].apply(lambda x: x.strftime('%Y-%m-%d'))"
   ]
  },
  {
   "cell_type": "code",
   "execution_count": 25,
   "metadata": {},
   "outputs": [
    {
     "data": {
      "text/html": [
       "<div>\n",
       "<style scoped>\n",
       "    .dataframe tbody tr th:only-of-type {\n",
       "        vertical-align: middle;\n",
       "    }\n",
       "\n",
       "    .dataframe tbody tr th {\n",
       "        vertical-align: top;\n",
       "    }\n",
       "\n",
       "    .dataframe thead th {\n",
       "        text-align: right;\n",
       "    }\n",
       "</style>\n",
       "<table border=\"1\" class=\"dataframe\">\n",
       "  <thead>\n",
       "    <tr style=\"text-align: right;\">\n",
       "      <th></th>\n",
       "      <th>Date</th>\n",
       "      <th>HourofDay</th>\n",
       "      <th>count</th>\n",
       "      <th>DateString</th>\n",
       "    </tr>\n",
       "  </thead>\n",
       "  <tbody>\n",
       "    <tr>\n",
       "      <th>0</th>\n",
       "      <td>2016-01-27</td>\n",
       "      <td>1</td>\n",
       "      <td>5073</td>\n",
       "      <td>2016-01-27</td>\n",
       "    </tr>\n",
       "    <tr>\n",
       "      <th>1</th>\n",
       "      <td>2016-01-29</td>\n",
       "      <td>17</td>\n",
       "      <td>21195</td>\n",
       "      <td>2016-01-29</td>\n",
       "    </tr>\n",
       "    <tr>\n",
       "      <th>2</th>\n",
       "      <td>2016-01-06</td>\n",
       "      <td>12</td>\n",
       "      <td>16901</td>\n",
       "      <td>2016-01-06</td>\n",
       "    </tr>\n",
       "    <tr>\n",
       "      <th>3</th>\n",
       "      <td>2016-01-02</td>\n",
       "      <td>2</td>\n",
       "      <td>6644</td>\n",
       "      <td>2016-01-02</td>\n",
       "    </tr>\n",
       "    <tr>\n",
       "      <th>4</th>\n",
       "      <td>2016-01-17</td>\n",
       "      <td>10</td>\n",
       "      <td>15803</td>\n",
       "      <td>2016-01-17</td>\n",
       "    </tr>\n",
       "  </tbody>\n",
       "</table>\n",
       "</div>"
      ],
      "text/plain": [
       "        Date  HourofDay  count  DateString\n",
       "0 2016-01-27          1   5073  2016-01-27\n",
       "1 2016-01-29         17  21195  2016-01-29\n",
       "2 2016-01-06         12  16901  2016-01-06\n",
       "3 2016-01-02          2   6644  2016-01-02\n",
       "4 2016-01-17         10  15803  2016-01-17"
      ]
     },
     "execution_count": 25,
     "metadata": {},
     "output_type": "execute_result"
    }
   ],
   "source": [
    "result.head()"
   ]
  },
  {
   "cell_type": "code",
   "execution_count": 27,
   "metadata": {},
   "outputs": [],
   "source": [
    "dfAggValues = result.merge(dfWeather, on='DateString', how='left')"
   ]
  },
  {
   "cell_type": "code",
   "execution_count": 28,
   "metadata": {},
   "outputs": [
    {
     "data": {
      "text/html": [
       "<div>\n",
       "<style scoped>\n",
       "    .dataframe tbody tr th:only-of-type {\n",
       "        vertical-align: middle;\n",
       "    }\n",
       "\n",
       "    .dataframe tbody tr th {\n",
       "        vertical-align: top;\n",
       "    }\n",
       "\n",
       "    .dataframe thead th {\n",
       "        text-align: right;\n",
       "    }\n",
       "</style>\n",
       "<table border=\"1\" class=\"dataframe\">\n",
       "  <thead>\n",
       "    <tr style=\"text-align: right;\">\n",
       "      <th></th>\n",
       "      <th>Date</th>\n",
       "      <th>HourofDay</th>\n",
       "      <th>count</th>\n",
       "      <th>DateString</th>\n",
       "      <th>Unnamed: 0</th>\n",
       "      <th>Unnamed: 0.1</th>\n",
       "      <th>TimeEST</th>\n",
       "      <th>Conditions</th>\n",
       "      <th>DateTime</th>\n",
       "      <th>HourOfDay</th>\n",
       "    </tr>\n",
       "  </thead>\n",
       "  <tbody>\n",
       "    <tr>\n",
       "      <th>0</th>\n",
       "      <td>2016-01-27</td>\n",
       "      <td>1</td>\n",
       "      <td>5073</td>\n",
       "      <td>2016-01-27</td>\n",
       "      <td>708</td>\n",
       "      <td>708</td>\n",
       "      <td>7:51 PM</td>\n",
       "      <td>Favorable</td>\n",
       "      <td>2016-01-27 19:51:00</td>\n",
       "      <td>19</td>\n",
       "    </tr>\n",
       "    <tr>\n",
       "      <th>1</th>\n",
       "      <td>2016-01-27</td>\n",
       "      <td>1</td>\n",
       "      <td>5073</td>\n",
       "      <td>2016-01-27</td>\n",
       "      <td>709</td>\n",
       "      <td>709</td>\n",
       "      <td>8:51 PM</td>\n",
       "      <td>Favorable</td>\n",
       "      <td>2016-01-27 20:51:00</td>\n",
       "      <td>20</td>\n",
       "    </tr>\n",
       "    <tr>\n",
       "      <th>2</th>\n",
       "      <td>2016-01-27</td>\n",
       "      <td>1</td>\n",
       "      <td>5073</td>\n",
       "      <td>2016-01-27</td>\n",
       "      <td>710</td>\n",
       "      <td>710</td>\n",
       "      <td>9:51 PM</td>\n",
       "      <td>Favorable</td>\n",
       "      <td>2016-01-27 21:51:00</td>\n",
       "      <td>21</td>\n",
       "    </tr>\n",
       "    <tr>\n",
       "      <th>3</th>\n",
       "      <td>2016-01-27</td>\n",
       "      <td>1</td>\n",
       "      <td>5073</td>\n",
       "      <td>2016-01-27</td>\n",
       "      <td>711</td>\n",
       "      <td>711</td>\n",
       "      <td>10:51 PM</td>\n",
       "      <td>Favorable</td>\n",
       "      <td>2016-01-27 22:51:00</td>\n",
       "      <td>22</td>\n",
       "    </tr>\n",
       "    <tr>\n",
       "      <th>4</th>\n",
       "      <td>2016-01-27</td>\n",
       "      <td>1</td>\n",
       "      <td>5073</td>\n",
       "      <td>2016-01-27</td>\n",
       "      <td>712</td>\n",
       "      <td>712</td>\n",
       "      <td>11:51 PM</td>\n",
       "      <td>Favorable</td>\n",
       "      <td>2016-01-27 23:51:00</td>\n",
       "      <td>23</td>\n",
       "    </tr>\n",
       "  </tbody>\n",
       "</table>\n",
       "</div>"
      ],
      "text/plain": [
       "        Date  HourofDay  count  DateString  Unnamed: 0  Unnamed: 0.1  \\\n",
       "0 2016-01-27          1   5073  2016-01-27         708           708   \n",
       "1 2016-01-27          1   5073  2016-01-27         709           709   \n",
       "2 2016-01-27          1   5073  2016-01-27         710           710   \n",
       "3 2016-01-27          1   5073  2016-01-27         711           711   \n",
       "4 2016-01-27          1   5073  2016-01-27         712           712   \n",
       "\n",
       "    TimeEST Conditions             DateTime  HourOfDay  \n",
       "0   7:51 PM  Favorable  2016-01-27 19:51:00         19  \n",
       "1   8:51 PM  Favorable  2016-01-27 20:51:00         20  \n",
       "2   9:51 PM  Favorable  2016-01-27 21:51:00         21  \n",
       "3  10:51 PM  Favorable  2016-01-27 22:51:00         22  \n",
       "4  11:51 PM  Favorable  2016-01-27 23:51:00         23  "
      ]
     },
     "execution_count": 28,
     "metadata": {},
     "output_type": "execute_result"
    }
   ],
   "source": [
    "dfAggValues.head()"
   ]
  },
  {
   "cell_type": "code",
   "execution_count": 30,
   "metadata": {},
   "outputs": [],
   "source": [
    "dfAggValues2 = result.merge(dfWeather, on=['DateString', 'HourofDay'], how='left')"
   ]
  },
  {
   "cell_type": "code",
   "execution_count": 31,
   "metadata": {},
   "outputs": [
    {
     "data": {
      "text/html": [
       "<div>\n",
       "<style scoped>\n",
       "    .dataframe tbody tr th:only-of-type {\n",
       "        vertical-align: middle;\n",
       "    }\n",
       "\n",
       "    .dataframe tbody tr th {\n",
       "        vertical-align: top;\n",
       "    }\n",
       "\n",
       "    .dataframe thead th {\n",
       "        text-align: right;\n",
       "    }\n",
       "</style>\n",
       "<table border=\"1\" class=\"dataframe\">\n",
       "  <thead>\n",
       "    <tr style=\"text-align: right;\">\n",
       "      <th></th>\n",
       "      <th>Date</th>\n",
       "      <th>HourofDay</th>\n",
       "      <th>count</th>\n",
       "      <th>DateString</th>\n",
       "      <th>Unnamed: 0</th>\n",
       "      <th>Unnamed: 0.1</th>\n",
       "      <th>TimeEST</th>\n",
       "      <th>Conditions</th>\n",
       "      <th>DateTime</th>\n",
       "    </tr>\n",
       "  </thead>\n",
       "  <tbody>\n",
       "    <tr>\n",
       "      <th>0</th>\n",
       "      <td>2016-01-27</td>\n",
       "      <td>1</td>\n",
       "      <td>5073</td>\n",
       "      <td>2016-01-27</td>\n",
       "      <td>714.0</td>\n",
       "      <td>714.0</td>\n",
       "      <td>1:51 AM</td>\n",
       "      <td>Favorable</td>\n",
       "      <td>2016-01-27 01:51:00</td>\n",
       "    </tr>\n",
       "    <tr>\n",
       "      <th>1</th>\n",
       "      <td>2016-01-29</td>\n",
       "      <td>17</td>\n",
       "      <td>21195</td>\n",
       "      <td>2016-01-29</td>\n",
       "      <td>778.0</td>\n",
       "      <td>778.0</td>\n",
       "      <td>5:51 PM</td>\n",
       "      <td>Favorable</td>\n",
       "      <td>2016-01-29 17:51:00</td>\n",
       "    </tr>\n",
       "    <tr>\n",
       "      <th>2</th>\n",
       "      <td>2016-01-06</td>\n",
       "      <td>12</td>\n",
       "      <td>16901</td>\n",
       "      <td>2016-01-06</td>\n",
       "      <td>128.0</td>\n",
       "      <td>128.0</td>\n",
       "      <td>12:51 PM</td>\n",
       "      <td>Favorable</td>\n",
       "      <td>2016-01-06 12:51:00</td>\n",
       "    </tr>\n",
       "    <tr>\n",
       "      <th>3</th>\n",
       "      <td>2016-01-02</td>\n",
       "      <td>2</td>\n",
       "      <td>6644</td>\n",
       "      <td>2016-01-02</td>\n",
       "      <td>26.0</td>\n",
       "      <td>26.0</td>\n",
       "      <td>2:51 AM</td>\n",
       "      <td>Favorable</td>\n",
       "      <td>2016-01-02 02:51:00</td>\n",
       "    </tr>\n",
       "    <tr>\n",
       "      <th>4</th>\n",
       "      <td>2016-01-17</td>\n",
       "      <td>10</td>\n",
       "      <td>15803</td>\n",
       "      <td>2016-01-17</td>\n",
       "      <td>446.0</td>\n",
       "      <td>446.0</td>\n",
       "      <td>10:51 AM</td>\n",
       "      <td>Favorable</td>\n",
       "      <td>2016-01-17 10:51:00</td>\n",
       "    </tr>\n",
       "  </tbody>\n",
       "</table>\n",
       "</div>"
      ],
      "text/plain": [
       "        Date  HourofDay  count  DateString  Unnamed: 0  Unnamed: 0.1  \\\n",
       "0 2016-01-27          1   5073  2016-01-27       714.0         714.0   \n",
       "1 2016-01-29         17  21195  2016-01-29       778.0         778.0   \n",
       "2 2016-01-06         12  16901  2016-01-06       128.0         128.0   \n",
       "3 2016-01-02          2   6644  2016-01-02        26.0          26.0   \n",
       "4 2016-01-17         10  15803  2016-01-17       446.0         446.0   \n",
       "\n",
       "    TimeEST Conditions             DateTime  \n",
       "0   1:51 AM  Favorable  2016-01-27 01:51:00  \n",
       "1   5:51 PM  Favorable  2016-01-29 17:51:00  \n",
       "2  12:51 PM  Favorable  2016-01-06 12:51:00  \n",
       "3   2:51 AM  Favorable  2016-01-02 02:51:00  \n",
       "4  10:51 AM  Favorable  2016-01-17 10:51:00  "
      ]
     },
     "execution_count": 31,
     "metadata": {},
     "output_type": "execute_result"
    }
   ],
   "source": [
    "dfAggValues2.head()"
   ]
  },
  {
   "cell_type": "code",
   "execution_count": 33,
   "metadata": {},
   "outputs": [],
   "source": [
    "dfAvgValuesMultiGroup = pd.DataFrame(dfAggValues2.groupby(['HourofDay', 'Conditions'], as_index=False)['count'].mean())"
   ]
  },
  {
   "cell_type": "code",
   "execution_count": 44,
   "metadata": {},
   "outputs": [
    {
     "data": {
      "text/html": [
       "<div>\n",
       "<style scoped>\n",
       "    .dataframe tbody tr th:only-of-type {\n",
       "        vertical-align: middle;\n",
       "    }\n",
       "\n",
       "    .dataframe tbody tr th {\n",
       "        vertical-align: top;\n",
       "    }\n",
       "\n",
       "    .dataframe thead th {\n",
       "        text-align: right;\n",
       "    }\n",
       "</style>\n",
       "<table border=\"1\" class=\"dataframe\">\n",
       "  <thead>\n",
       "    <tr style=\"text-align: right;\">\n",
       "      <th>Conditions</th>\n",
       "      <th>Favorable</th>\n",
       "      <th>Unfavorable</th>\n",
       "    </tr>\n",
       "    <tr>\n",
       "      <th>HourofDay</th>\n",
       "      <th></th>\n",
       "      <th></th>\n",
       "    </tr>\n",
       "  </thead>\n",
       "  <tbody>\n",
       "    <tr>\n",
       "      <th>0</th>\n",
       "      <td>13926.483146</td>\n",
       "      <td>10991.388889</td>\n",
       "    </tr>\n",
       "    <tr>\n",
       "      <th>1</th>\n",
       "      <td>9909.133690</td>\n",
       "      <td>8683.000000</td>\n",
       "    </tr>\n",
       "    <tr>\n",
       "      <th>2</th>\n",
       "      <td>7185.602151</td>\n",
       "      <td>7602.437500</td>\n",
       "    </tr>\n",
       "    <tr>\n",
       "      <th>3</th>\n",
       "      <td>5418.758065</td>\n",
       "      <td>4891.040000</td>\n",
       "    </tr>\n",
       "    <tr>\n",
       "      <th>4</th>\n",
       "      <td>4037.207650</td>\n",
       "      <td>4001.500000</td>\n",
       "    </tr>\n",
       "    <tr>\n",
       "      <th>5</th>\n",
       "      <td>3946.234043</td>\n",
       "      <td>3812.264706</td>\n",
       "    </tr>\n",
       "    <tr>\n",
       "      <th>6</th>\n",
       "      <td>8673.712821</td>\n",
       "      <td>8667.171429</td>\n",
       "    </tr>\n",
       "    <tr>\n",
       "      <th>7</th>\n",
       "      <td>14588.587940</td>\n",
       "      <td>15589.823529</td>\n",
       "    </tr>\n",
       "    <tr>\n",
       "      <th>8</th>\n",
       "      <td>17428.825641</td>\n",
       "      <td>17994.210526</td>\n",
       "    </tr>\n",
       "    <tr>\n",
       "      <th>9</th>\n",
       "      <td>17718.410811</td>\n",
       "      <td>20014.529412</td>\n",
       "    </tr>\n",
       "    <tr>\n",
       "      <th>10</th>\n",
       "      <td>17101.664894</td>\n",
       "      <td>17585.764706</td>\n",
       "    </tr>\n",
       "    <tr>\n",
       "      <th>11</th>\n",
       "      <td>17866.768421</td>\n",
       "      <td>17938.843750</td>\n",
       "    </tr>\n",
       "    <tr>\n",
       "      <th>12</th>\n",
       "      <td>18618.159574</td>\n",
       "      <td>19276.607143</td>\n",
       "    </tr>\n",
       "    <tr>\n",
       "      <th>13</th>\n",
       "      <td>18666.021505</td>\n",
       "      <td>20052.619048</td>\n",
       "    </tr>\n",
       "    <tr>\n",
       "      <th>14</th>\n",
       "      <td>19542.432292</td>\n",
       "      <td>20083.000000</td>\n",
       "    </tr>\n",
       "    <tr>\n",
       "      <th>15</th>\n",
       "      <td>18843.200000</td>\n",
       "      <td>17463.176471</td>\n",
       "    </tr>\n",
       "    <tr>\n",
       "      <th>16</th>\n",
       "      <td>16954.930108</td>\n",
       "      <td>15898.333333</td>\n",
       "    </tr>\n",
       "    <tr>\n",
       "      <th>17</th>\n",
       "      <td>20073.270270</td>\n",
       "      <td>18002.000000</td>\n",
       "    </tr>\n",
       "    <tr>\n",
       "      <th>18</th>\n",
       "      <td>23773.473958</td>\n",
       "      <td>21759.928571</td>\n",
       "    </tr>\n",
       "    <tr>\n",
       "      <th>19</th>\n",
       "      <td>23737.959391</td>\n",
       "      <td>23400.500000</td>\n",
       "    </tr>\n",
       "    <tr>\n",
       "      <th>20</th>\n",
       "      <td>22168.719577</td>\n",
       "      <td>20690.285714</td>\n",
       "    </tr>\n",
       "    <tr>\n",
       "      <th>21</th>\n",
       "      <td>21962.172043</td>\n",
       "      <td>20261.823529</td>\n",
       "    </tr>\n",
       "    <tr>\n",
       "      <th>22</th>\n",
       "      <td>21376.480663</td>\n",
       "      <td>17742.277778</td>\n",
       "    </tr>\n",
       "    <tr>\n",
       "      <th>23</th>\n",
       "      <td>18372.574468</td>\n",
       "      <td>12182.500000</td>\n",
       "    </tr>\n",
       "  </tbody>\n",
       "</table>\n",
       "</div>"
      ],
      "text/plain": [
       "Conditions     Favorable   Unfavorable\n",
       "HourofDay                             \n",
       "0           13926.483146  10991.388889\n",
       "1            9909.133690   8683.000000\n",
       "2            7185.602151   7602.437500\n",
       "3            5418.758065   4891.040000\n",
       "4            4037.207650   4001.500000\n",
       "5            3946.234043   3812.264706\n",
       "6            8673.712821   8667.171429\n",
       "7           14588.587940  15589.823529\n",
       "8           17428.825641  17994.210526\n",
       "9           17718.410811  20014.529412\n",
       "10          17101.664894  17585.764706\n",
       "11          17866.768421  17938.843750\n",
       "12          18618.159574  19276.607143\n",
       "13          18666.021505  20052.619048\n",
       "14          19542.432292  20083.000000\n",
       "15          18843.200000  17463.176471\n",
       "16          16954.930108  15898.333333\n",
       "17          20073.270270  18002.000000\n",
       "18          23773.473958  21759.928571\n",
       "19          23737.959391  23400.500000\n",
       "20          22168.719577  20690.285714\n",
       "21          21962.172043  20261.823529\n",
       "22          21376.480663  17742.277778\n",
       "23          18372.574468  12182.500000"
      ]
     },
     "execution_count": 44,
     "metadata": {},
     "output_type": "execute_result"
    }
   ],
   "source": [
    "dfTotal = dfAvgValuesMultiGroup.reset_index()\n",
    "dfTotal = dfTotal.pivot_table('count', ['HourofDay'], 'Conditions')\n",
    "dfTotal"
   ]
  },
  {
   "cell_type": "code",
   "execution_count": 45,
   "metadata": {},
   "outputs": [
    {
     "data": {
      "text/plain": [
       "<matplotlib.axes._subplots.AxesSubplot at 0x10d918310>"
      ]
     },
     "execution_count": 45,
     "metadata": {},
     "output_type": "execute_result"
    },
    {
     "data": {
      "image/png": "[encoded data removed]",
      "text/plain": [
       "<matplotlib.figure.Figure at 0x10d73dcd0>"
      ]
     },
     "metadata": {},
     "output_type": "display_data"
    }
   ],
   "source": [
    "plt.style.use('seaborn-whitegrid')\n",
    "plt.rcParams['figure.figsize'] = (15, 8)\n",
    "dfTotal.plot(kind='barh', title='Avgs')"
   ]
  },
  {
   "cell_type": "code",
   "execution_count": 46,
   "metadata": {},
   "outputs": [
    {
     "data": {
      "text/plain": [
       "<matplotlib.axes._subplots.AxesSubplot at 0x10db83550>"
      ]
     },
     "execution_count": 46,
     "metadata": {},
     "output_type": "execute_result"
    },
    {
     "data": {
      "image/png": "[encoded data removed]",
      "text/plain": [
       "<matplotlib.figure.Figure at 0x10db8ba90>"
      ]
     },
     "metadata": {},
     "output_type": "display_data"
    }
   ],
   "source": [
    "dfTotal.plot(kind='bar', title='Avgs')"
   ]
  },
  {
   "cell_type": "code",
   "execution_count": 47,
   "metadata": {},
   "outputs": [
    {
     "data": {
      "text/plain": [
       "<matplotlib.axes._subplots.AxesSubplot at 0x10de42590>"
      ]
     },
     "execution_count": 47,
     "metadata": {},
     "output_type": "execute_result"
    },
    {
     "data": {
      "image/png": "[encoded data removed]",
      "text/plain": [
       "<matplotlib.figure.Figure at 0x10de4c910>"
      ]
     },
     "metadata": {},
     "output_type": "display_data"
    }
   ],
   "source": [
    "dfTotal.plot()"
   ]
  },
  {
   "cell_type": "code",
   "execution_count": null,
   "metadata": {},
   "outputs": [],
   "source": []
  },
  {
   "cell_type": "code",
   "execution_count": null,
   "metadata": {},
   "outputs": [],
   "source": []
  }
 ],
 "metadata": {
  "kernelspec": {
   "display_name": "Python 2",
   "language": "python",
   "name": "python2"
  },
  "language_info": {
   "codemirror_mode": {
    "name": "ipython",
    "version": 2
   },
   "file_extension": ".py",
   "mimetype": "text/x-python",
   "name": "python",
   "nbconvert_exporter": "python",
   "pygments_lexer": "ipython2",
   "version": "2.7.14"
  }
 },
 "nbformat": 4,
 "nbformat_minor": 2
}
