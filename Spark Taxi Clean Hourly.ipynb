{
 "cells": [
  {
   "cell_type": "code",
   "execution_count": 1,
   "metadata": {},
   "outputs": [
    {
     "data": {
      "text/html": [
       "\n",
       "        <div>\n",
       "            <p><b>SparkContext</b></p>\n",
       "\n",
       "            <p><a href=\"http://rupeshs-mbp.fios-router.home:4048\">Spark UI</a></p>\n",
       "\n",
       "            <dl>\n",
       "              <dt>Version</dt>\n",
       "                <dd><code>v2.3.0</code></dd>\n",
       "              <dt>Master</dt>\n",
       "                <dd><code>local[*]</code></dd>\n",
       "              <dt>AppName</dt>\n",
       "                <dd><code>PySparkShell</code></dd>\n",
       "            </dl>\n",
       "        </div>\n",
       "        "
      ],
      "text/plain": [
       "<SparkContext master=local[*] appName=PySparkShell>"
      ]
     },
     "execution_count": 1,
     "metadata": {},
     "output_type": "execute_result"
    }
   ],
   "source": [
    "sc"
   ]
  },
  {
   "cell_type": "code",
   "execution_count": 6,
   "metadata": {},
   "outputs": [],
   "source": [
    "import csv\n",
    "import calendar\n",
    "import datetime\n",
    "\n",
    "# Clean Taxi Data\n",
    "def parserTaxi(id, data):\n",
    "    if id == 0:\n",
    "        data.next()\n",
    "    for i in csv.reader(data):\n",
    "        tpep_pickup_datetime, tpep_dropoff_datetime, pickup_longitude, \\\n",
    "        pickup_latitude, dropoff_longitude, dropoff_latitude, Date, Weekday, HourofDay = i[1], i[2], i[5], i[6], i[9], i[10], \\\n",
    "        datetime.datetime.strptime(i[1], \"%Y-%m-%d %H:%M:%S\").date(), \\\n",
    "        calendar.day_name[datetime.datetime.strptime(i[1], \"%Y-%m-%d %H:%M:%S\").weekday()], \\\n",
    "        datetime.datetime.strptime(i[1], \"%Y-%m-%d %H:%M:%S\").hour\n",
    "        # rows required for the taxi data\n",
    "        yield tpep_pickup_datetime, tpep_dropoff_datetime, pickup_longitude, \\\n",
    "        pickup_latitude, dropoff_longitude, dropoff_latitude, Date, Weekday, HourofDay"
   ]
  },
  {
   "cell_type": "code",
   "execution_count": 5,
   "metadata": {},
   "outputs": [
    {
     "data": {
      "text/plain": [
       "21"
      ]
     },
     "execution_count": 5,
     "metadata": {},
     "output_type": "execute_result"
    }
   ],
   "source": [
    "for i in range(1, 4):\n",
    "    taxi = sc.textFile('Data/top20-{0}.csv'.format(i), use_unicode=False).cache()\n",
    "    taxiRDD = taxi.mapPartitionsWithIndex(parserTaxi)\n",
    "    df = sqlContext.createDataFrame(taxiRDD, ['tpep_pickup_datetime', 'tpep_dropoff_datetime', 'pickup_longitude', 'pickup_latitude', 'dropoff_longitude', 'dropoff_latitude', 'Date', 'Weekday', 'HourofDay'])\n",
    "    agg = df.select(['Date', 'HourofDay']).groupBy('Date').count()\n",
    "    agg.coalesce(1).write.csv('Data/top20-{0}_AGG'.format(i), header=True)"
   ]
  },
  {
   "cell_type": "code",
   "execution_count": 18,
   "metadata": {},
   "outputs": [],
   "source": [
    "taxi = sc.textFile('Data/top20-1.csv', use_unicode=False).cache()\n",
    "taxiRDD = taxi.mapPartitionsWithIndex(parserTaxi)\n",
    "df = sqlContext.createDataFrame(taxiRDD, ['tpep_pickup_datetime', 'tpep_dropoff_datetime', 'pickup_longitude', 'pickup_latitude', 'dropoff_longitude', 'dropoff_latitude', 'Date', 'Weekday', 'HourofDay'])\n",
    "agg = df.select(['Date', 'HourofDay']).groupBy(['Date', 'HourofDay']).count()"
   ]
  },
  {
   "cell_type": "code",
   "execution_count": 12,
   "metadata": {},
   "outputs": [],
   "source": [
    "agg2 = df.groupby(['Date', 'HourofDay'])"
   ]
  },
  {
   "cell_type": "code",
   "execution_count": 20,
   "metadata": {},
   "outputs": [
    {
     "data": {
      "text/plain": [
       "[Row(Date=datetime.date(2016, 6, 9), HourofDay=23, count=10),\n",
       " Row(Date=datetime.date(2016, 6, 9), HourofDay=22, count=6),\n",
       " Row(Date=datetime.date(2016, 6, 9), HourofDay=21, count=19)]"
      ]
     },
     "execution_count": 20,
     "metadata": {},
     "output_type": "execute_result"
    }
   ],
   "source": [
    "agg.take(3)"
   ]
  },
  {
   "cell_type": "code",
   "execution_count": 14,
   "metadata": {},
   "outputs": [
    {
     "ename": "AttributeError",
     "evalue": "'GroupedData' object has no attribute 'take'",
     "output_type": "error",
     "traceback": [
      "\u001b[0;31m---------------------------------------------------------------------------\u001b[0m",
      "\u001b[0;31mAttributeError\u001b[0m                            Traceback (most recent call last)",
      "\u001b[0;32m<ipython-input-14-56c9f27d90f2>\u001b[0m in \u001b[0;36m<module>\u001b[0;34m()\u001b[0m\n\u001b[0;32m----> 1\u001b[0;31m \u001b[0magg2\u001b[0m\u001b[0;34m.\u001b[0m\u001b[0mtake\u001b[0m\u001b[0;34m(\u001b[0m\u001b[0;36m3\u001b[0m\u001b[0;34m)\u001b[0m\u001b[0;34m\u001b[0m\u001b[0m\n\u001b[0m",
      "\u001b[0;31mAttributeError\u001b[0m: 'GroupedData' object has no attribute 'take'"
     ]
    }
   ],
   "source": [
    "agg2.take(3)"
   ]
  },
  {
   "cell_type": "code",
   "execution_count": 15,
   "metadata": {},
   "outputs": [
    {
     "data": {
      "text/plain": [
       "[Row(tpep_pickup_datetime=u'2016-06-09 21:06:36', tpep_dropoff_datetime=u'2016-06-09 21:13:08', pickup_longitude=u'-73.983360290527344', pickup_latitude=u'40.760936737060547', dropoff_longitude=u'-73.977462768554688', dropoff_latitude=u'40.753978729248047', Date=datetime.date(2016, 6, 9), Weekday=u'Thursday', HourofDay=21),\n",
       " Row(tpep_pickup_datetime=u'2016-06-09 21:06:36', tpep_dropoff_datetime=u'2016-06-09 21:35:11', pickup_longitude=u'-73.981719970703125', pickup_latitude=u'40.736667633056641', dropoff_longitude=u'-73.981636047363281', dropoff_latitude=u'40.670242309570313', Date=datetime.date(2016, 6, 9), Weekday=u'Thursday', HourofDay=21),\n",
       " Row(tpep_pickup_datetime=u'2016-06-09 21:06:36', tpep_dropoff_datetime=u'2016-06-09 21:13:10', pickup_longitude=u'-73.994316101074219', pickup_latitude=u'40.751071929931641', dropoff_longitude=u'-74.004234313964844', dropoff_latitude=u'40.742168426513672', Date=datetime.date(2016, 6, 9), Weekday=u'Thursday', HourofDay=21)]"
      ]
     },
     "execution_count": 15,
     "metadata": {},
     "output_type": "execute_result"
    }
   ],
   "source": [
    "df.take(3)"
   ]
  },
  {
   "cell_type": "code",
   "execution_count": null,
   "metadata": {},
   "outputs": [],
   "source": []
  }
 ],
 "metadata": {
  "kernelspec": {
   "display_name": "Python 2",
   "language": "python",
   "name": "python2"
  },
  "language_info": {
   "codemirror_mode": {
    "name": "ipython",
    "version": 2
   },
   "file_extension": ".py",
   "mimetype": "text/x-python",
   "name": "python",
   "nbconvert_exporter": "python",
   "pygments_lexer": "ipython2",
   "version": "2.7.14"
  }
 },
 "nbformat": 4,
 "nbformat_minor": 2
}
