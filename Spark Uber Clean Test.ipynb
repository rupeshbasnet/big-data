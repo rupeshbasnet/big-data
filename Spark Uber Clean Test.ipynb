{
 "cells": [
  {
   "cell_type": "code",
   "execution_count": 1,
   "metadata": {},
   "outputs": [
    {
     "data": {
      "text/html": [
       "\n",
       "        <div>\n",
       "            <p><b>SparkContext</b></p>\n",
       "\n",
       "            <p><a href=\"http://rupeshs-mbp.fios-router.home:4047\">Spark UI</a></p>\n",
       "\n",
       "            <dl>\n",
       "              <dt>Version</dt>\n",
       "                <dd><code>v2.3.0</code></dd>\n",
       "              <dt>Master</dt>\n",
       "                <dd><code>local[*]</code></dd>\n",
       "              <dt>AppName</dt>\n",
       "                <dd><code>PySparkShell</code></dd>\n",
       "            </dl>\n",
       "        </div>\n",
       "        "
      ],
      "text/plain": [
       "<SparkContext master=local[*] appName=PySparkShell>"
      ]
     },
     "execution_count": 1,
     "metadata": {},
     "output_type": "execute_result"
    }
   ],
   "source": [
    "sc"
   ]
  },
  {
   "cell_type": "code",
   "execution_count": 2,
   "metadata": {},
   "outputs": [],
   "source": [
    "import csv\n",
    "import calendar\n",
    "import datetime"
   ]
  },
  {
   "cell_type": "code",
   "execution_count": null,
   "metadata": {},
   "outputs": [],
   "source": [
    "# Clean Uber Data\n",
    "def parserUber(id, data):\n",
    "    if id == 0:\n",
    "        data.next()\n",
    "    for i in csv.reader(data):\n",
    "        DateTime, Lat, Lon, \\\n",
    "        Base, Index_Weekday, Date, Weekday = i[0], i[1], i[2], i[3] \\\n",
    "        calendar.day_name[datetime.datetime.strptime(i[0], \"%Y-%m-%d %H:%M:%S\").weekday()\n",
    "        datetime.datetime.strptime(i[1], \"%Y-%m-%d %H:%M:%S\").date(), \\\n",
    "\n",
    "        # rows required for the taxi data\n",
    "        yield tpep_pickup_datetime, tpep_dropoff_datetime, pickup_longitude, \\\n",
    "        pickup_latitude, dropoff_longitude, dropoff_latitude, Date, Weekday"
   ]
  }
 ],
 "metadata": {
  "kernelspec": {
   "display_name": "Python 2",
   "language": "python",
   "name": "python2"
  },
  "language_info": {
   "codemirror_mode": {
    "name": "ipython",
    "version": 2
   },
   "file_extension": ".py",
   "mimetype": "text/x-python",
   "name": "python",
   "nbconvert_exporter": "python",
   "pygments_lexer": "ipython2",
   "version": "2.7.14"
  }
 },
 "nbformat": 4,
 "nbformat_minor": 2
}
